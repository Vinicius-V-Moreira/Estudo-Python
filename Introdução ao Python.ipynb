{
  "nbformat": 4,
  "nbformat_minor": 0,
  "metadata": {
    "colab": {
      "provenance": [],
      "collapsed_sections": [
        "MYxlrSbSgiXQ",
        "bZFKNlnP4O6h",
        "OlpmLAcyLhmD",
        "LEXscFTriwRC",
        "VtGuuYbX01PI"
      ],
      "include_colab_link": true
    },
    "kernelspec": {
      "name": "python3",
      "display_name": "Python 3"
    },
    "language_info": {
      "name": "python"
    }
  },
  "cells": [
    {
      "cell_type": "markdown",
      "metadata": {
        "id": "view-in-github",
        "colab_type": "text"
      },
      "source": [
        "<a href=\"https://colab.research.google.com/github/Vinicius-V-Moreira/Estudo-Python/blob/main/Introdu%C3%A7%C3%A3o%20ao%20Python.ipynb\" target=\"_parent\"><img src=\"https://colab.research.google.com/assets/colab-badge.svg\" alt=\"Open In Colab\"/></a>"
      ]
    },
    {
      "cell_type": "markdown",
      "source": [
        "<center><img src = \"https://github.com/Trading-com-Dados/pmf/blob/main/logotipo-trading-com-dados.svg?raw=true\" width = \"200\">"
      ],
      "metadata": {
        "id": "LhC1zhTvkPk_"
      }
    },
    {
      "cell_type": "markdown",
      "source": [
        "<center><img src = \"https://github.com/Trading-com-Dados/pmf/blob/main/PMF%20002.png?raw=true\" width = \"700\">"
      ],
      "metadata": {
        "id": "2nM6YF8pimKI"
      }
    },
    {
      "cell_type": "markdown",
      "source": [
        "# **Python para Mercado Financeiro**"
      ],
      "metadata": {
        "id": "M-VdkjxzgPJz"
      }
    },
    {
      "cell_type": "markdown",
      "source": [
        "# Módulo 01 - Introdução ao Python"
      ],
      "metadata": {
        "id": "m3cIuk6ZgU_I"
      }
    },
    {
      "cell_type": "markdown",
      "source": [
        "No formato de notebook, nós alternamos entre código e markdown (texto, imagens)"
      ],
      "metadata": {
        "id": "ny2VAFgmgjBB"
      }
    },
    {
      "cell_type": "markdown",
      "source": [
        "## 0. Hello World!"
      ],
      "metadata": {
        "id": "MYxlrSbSgiXQ"
      }
    },
    {
      "cell_type": "markdown",
      "source": [
        "Tradicionalmente no ensino de programação, inicia-se com o comando clássico \"Hello World!\""
      ],
      "metadata": {
        "id": "3Ytq-Z-Ggm7f"
      }
    },
    {
      "cell_type": "code",
      "source": [
        "print(\"Hello World!\")"
      ],
      "metadata": {
        "colab": {
          "base_uri": "https://localhost:8080/"
        },
        "id": "MdjrhOjY3PXS",
        "outputId": "ac862965-e6f1-428c-8a0a-7c13005ed293"
      },
      "execution_count": null,
      "outputs": [
        {
          "output_type": "stream",
          "name": "stdout",
          "text": [
            "Hello World!\n"
          ]
        }
      ]
    },
    {
      "cell_type": "markdown",
      "source": [
        "Sintaxe\n",
        "\n",
        "A sintaxe da linguagem de programação Python é o conjunto de regras que definem como um programa em Python será escrito e interpretado (tanto pelo sistema de tempo de execução como pelo ser humano).\n",
        "\n",
        "Fonte: https://pt.wikipedia.org/wiki/Sintaxe_e_sem%C3%A2ntica_de_Python"
      ],
      "metadata": {
        "id": "GfekSfDr3wjh"
      }
    },
    {
      "cell_type": "markdown",
      "source": [
        "<center><img src = \"https://upload.wikimedia.org/wikipedia/commons/1/1f/Python_logo_01.svg\" width = \"200\">"
      ],
      "metadata": {
        "id": "cXasKZ1I3-kJ"
      }
    },
    {
      "cell_type": "markdown",
      "source": [
        "# 1. Variáveis e Objetos"
      ],
      "metadata": {
        "id": "bZFKNlnP4O6h"
      }
    },
    {
      "cell_type": "markdown",
      "source": [
        "## 1.1. Diferença entre variáveis e objetos"
      ],
      "metadata": {
        "id": "nPTf-XGLAV1I"
      }
    },
    {
      "cell_type": "code",
      "source": [
        "9"
      ],
      "metadata": {
        "colab": {
          "base_uri": "https://localhost:8080/"
        },
        "id": "KcQaKs9oA1Jn",
        "outputId": "97a257a7-3bd7-4585-b69a-018b39a36b68"
      },
      "execution_count": null,
      "outputs": [
        {
          "output_type": "execute_result",
          "data": {
            "text/plain": [
              "9"
            ]
          },
          "metadata": {},
          "execution_count": 1
        }
      ]
    },
    {
      "cell_type": "code",
      "source": [
        "a = 9"
      ],
      "metadata": {
        "id": "IwesdDCHBFrQ"
      },
      "execution_count": null,
      "outputs": []
    },
    {
      "cell_type": "code",
      "source": [
        "a"
      ],
      "metadata": {
        "colab": {
          "base_uri": "https://localhost:8080/"
        },
        "id": "RCKZv1WNBUM3",
        "outputId": "8d5f6666-bd8a-4fcb-eee3-84310aff9b63"
      },
      "execution_count": null,
      "outputs": [
        {
          "output_type": "execute_result",
          "data": {
            "text/plain": [
              "9"
            ]
          },
          "metadata": {},
          "execution_count": 3
        }
      ]
    },
    {
      "cell_type": "code",
      "source": [
        "print(a)"
      ],
      "metadata": {
        "colab": {
          "base_uri": "https://localhost:8080/"
        },
        "id": "kFTVLPYNBVc-",
        "outputId": "8bb5c8b3-c44f-493a-e341-4c5cd9548986"
      },
      "execution_count": null,
      "outputs": [
        {
          "output_type": "stream",
          "name": "stdout",
          "text": [
            "9\n"
          ]
        }
      ]
    },
    {
      "cell_type": "code",
      "source": [
        "b = 30.78"
      ],
      "metadata": {
        "id": "eoueCC4ZBXc_"
      },
      "execution_count": null,
      "outputs": []
    },
    {
      "cell_type": "code",
      "source": [
        "b"
      ],
      "metadata": {
        "colab": {
          "base_uri": "https://localhost:8080/"
        },
        "id": "gUIKwJnJBnHW",
        "outputId": "00a2f7d3-29d7-48bb-de26-13039abcc22d"
      },
      "execution_count": null,
      "outputs": [
        {
          "output_type": "execute_result",
          "data": {
            "text/plain": [
              "30.78"
            ]
          },
          "metadata": {},
          "execution_count": 6
        }
      ]
    },
    {
      "cell_type": "markdown",
      "source": [
        "Chamando a função type( )"
      ],
      "metadata": {
        "id": "BGkaE7cIBoYH"
      }
    },
    {
      "cell_type": "code",
      "source": [
        "type(a)"
      ],
      "metadata": {
        "colab": {
          "base_uri": "https://localhost:8080/"
        },
        "id": "YoI6DeLEByVW",
        "outputId": "ad4412a7-dcd8-4158-ecc5-6fc625bf9a47"
      },
      "execution_count": null,
      "outputs": [
        {
          "output_type": "execute_result",
          "data": {
            "text/plain": [
              "int"
            ]
          },
          "metadata": {},
          "execution_count": 7
        }
      ]
    },
    {
      "cell_type": "code",
      "source": [
        "type(b)"
      ],
      "metadata": {
        "colab": {
          "base_uri": "https://localhost:8080/"
        },
        "id": "qU52NBy8B1u_",
        "outputId": "063786f6-af82-42bd-d550-7eb82d26217f"
      },
      "execution_count": null,
      "outputs": [
        {
          "output_type": "execute_result",
          "data": {
            "text/plain": [
              "float"
            ]
          },
          "metadata": {},
          "execution_count": 8
        }
      ]
    },
    {
      "cell_type": "code",
      "source": [
        "22.26"
      ],
      "metadata": {
        "colab": {
          "base_uri": "https://localhost:8080/"
        },
        "id": "ZcKoJ5mJGKjF",
        "outputId": "2a312566-862e-4b29-a1e0-8bc70d176ca9"
      },
      "execution_count": null,
      "outputs": [
        {
          "output_type": "execute_result",
          "data": {
            "text/plain": [
              "22.26"
            ]
          },
          "metadata": {},
          "execution_count": 9
        }
      ]
    },
    {
      "cell_type": "code",
      "source": [
        "22,26"
      ],
      "metadata": {
        "colab": {
          "base_uri": "https://localhost:8080/"
        },
        "id": "2of5bbX1GQec",
        "outputId": "e5c429ee-cc9a-4458-990a-f46930b06b1b"
      },
      "execution_count": null,
      "outputs": [
        {
          "output_type": "execute_result",
          "data": {
            "text/plain": [
              "(22, 26)"
            ]
          },
          "metadata": {},
          "execution_count": 10
        }
      ]
    },
    {
      "cell_type": "markdown",
      "source": [
        "**Tipos das variáveis**\n",
        "\n",
        "* **Integer (inteiro)**\n",
        "1. número de ações compradas: 100 ações de VALE3\n",
        "2. número de ordens enviadas: 2 ordens de compra\n",
        "3. quantidade de papéis analisados: hoje analisamos 2 papéis: PETR4 e VALE3\n",
        "4. número de estratégias criadas ou modelos avaliados\n",
        "\n",
        "* **Float**\n",
        "1. preço de um ativo: hoje a PETR4 está cotada a R\\$ 22,26\n",
        "2. valor financeiro do investimento: comprei R$ 2226,00 em ações da PETR4\n",
        "3. métricas quantitativas, como volatilidade, sharpe, sortino, drawdown, dentre outras\n",
        "\n",
        "\n",
        "* **String (str)**\n",
        "1. Uma manchete de notícia: \"VALE3 foi o papel que mais subiu hoje\"\n",
        "2. Redes sociais: \"Vou comprar PETR4 porque o preço está muito atrativo\"\n",
        "\n",
        "\n",
        "* **boolean (bool): True ou False**\n",
        "1. verificação de execução de ordem - foi comprado ou não?\n",
        "2. se uma regra fundamentalista foi obedecida para escolher os ativos, ex: ações com P/L acima de 0.5, e dividend yield acima de 10%"
      ],
      "metadata": {
        "id": "56V4gckQB5tX"
      }
    },
    {
      "cell_type": "code",
      "source": [
        "num_vale3 = 100"
      ],
      "metadata": {
        "id": "gowQBnVnJcxN"
      },
      "execution_count": null,
      "outputs": []
    },
    {
      "cell_type": "code",
      "source": [
        "num_vale3"
      ],
      "metadata": {
        "colab": {
          "base_uri": "https://localhost:8080/"
        },
        "id": "qheOl6OoJlAN",
        "outputId": "c1df2542-bfb1-4dae-e31f-fa803030f6b2"
      },
      "execution_count": null,
      "outputs": [
        {
          "output_type": "execute_result",
          "data": {
            "text/plain": [
              "100"
            ]
          },
          "metadata": {},
          "execution_count": 12
        }
      ]
    },
    {
      "cell_type": "code",
      "source": [
        "num_vale3_02 = 300"
      ],
      "metadata": {
        "id": "Vysv9WUdJmIF"
      },
      "execution_count": null,
      "outputs": []
    },
    {
      "cell_type": "code",
      "source": [
        "num_vale3 + num_vale3_02"
      ],
      "metadata": {
        "colab": {
          "base_uri": "https://localhost:8080/"
        },
        "id": "iyseE9dwJvLU",
        "outputId": "48656cb9-f3cf-48d7-f7a7-66d629421a50"
      },
      "execution_count": null,
      "outputs": [
        {
          "output_type": "execute_result",
          "data": {
            "text/plain": [
              "400"
            ]
          },
          "metadata": {},
          "execution_count": 14
        }
      ]
    },
    {
      "cell_type": "code",
      "source": [
        "type(num_vale3 + num_vale3_02)"
      ],
      "metadata": {
        "colab": {
          "base_uri": "https://localhost:8080/"
        },
        "id": "bLO6N5zOJyS2",
        "outputId": "3bebc14b-ef44-4aa6-b109-e2ac8ab0a9d0"
      },
      "execution_count": null,
      "outputs": [
        {
          "output_type": "execute_result",
          "data": {
            "text/plain": [
              "int"
            ]
          },
          "metadata": {},
          "execution_count": 15
        }
      ]
    },
    {
      "cell_type": "markdown",
      "source": [
        "Vamos fazer um exemplo com Strings"
      ],
      "metadata": {
        "id": "0WGznc3UJ2KW"
      }
    },
    {
      "cell_type": "code",
      "source": [
        "manchete = \"VALE3 foi o papel que mais subiu hoje\""
      ],
      "metadata": {
        "id": "XdUrpiq8KA4V"
      },
      "execution_count": null,
      "outputs": []
    },
    {
      "cell_type": "code",
      "source": [
        "manchete"
      ],
      "metadata": {
        "colab": {
          "base_uri": "https://localhost:8080/",
          "height": 35
        },
        "id": "DxuAw2xOKIPc",
        "outputId": "92df4c31-f252-47da-f33f-f030846698f9"
      },
      "execution_count": null,
      "outputs": [
        {
          "output_type": "execute_result",
          "data": {
            "text/plain": [
              "'VALE3 foi o papel que mais subiu hoje'"
            ],
            "application/vnd.google.colaboratory.intrinsic+json": {
              "type": "string"
            }
          },
          "metadata": {},
          "execution_count": 17
        }
      ]
    },
    {
      "cell_type": "code",
      "source": [
        "'VALE3 foi o papel que mais subiu hoje'"
      ],
      "metadata": {
        "colab": {
          "base_uri": "https://localhost:8080/",
          "height": 35
        },
        "id": "RlCckCgjKKLT",
        "outputId": "90f53fbb-8973-4360-9315-e31242cf3c66"
      },
      "execution_count": null,
      "outputs": [
        {
          "output_type": "execute_result",
          "data": {
            "text/plain": [
              "'VALE3 foi o papel que mais subiu hoje'"
            ],
            "application/vnd.google.colaboratory.intrinsic+json": {
              "type": "string"
            }
          },
          "metadata": {},
          "execution_count": 18
        }
      ]
    },
    {
      "cell_type": "code",
      "source": [
        "manchete = 'VALE3 foi o papel que mais subiu hoje'"
      ],
      "metadata": {
        "id": "21Ksqwp2KOld"
      },
      "execution_count": null,
      "outputs": []
    },
    {
      "cell_type": "code",
      "source": [
        "qualquer_coisa = '83927428bj foehrcn eorehe uq`{:Ç^Ç>`^'"
      ],
      "metadata": {
        "id": "ec68UN2qKTS-"
      },
      "execution_count": null,
      "outputs": []
    },
    {
      "cell_type": "code",
      "source": [
        "qualquer_coisa"
      ],
      "metadata": {
        "colab": {
          "base_uri": "https://localhost:8080/",
          "height": 35
        },
        "id": "Y62PzpoUKZ4M",
        "outputId": "ce59c5d5-d195-41c5-d02b-54a0e58bff1e"
      },
      "execution_count": null,
      "outputs": [
        {
          "output_type": "execute_result",
          "data": {
            "text/plain": [
              "'83927428bj foehrcn eorehe uq`{:Ç^Ç>`^'"
            ],
            "application/vnd.google.colaboratory.intrinsic+json": {
              "type": "string"
            }
          },
          "metadata": {},
          "execution_count": 21
        }
      ]
    },
    {
      "cell_type": "code",
      "source": [
        "ativo = 'LREN3'"
      ],
      "metadata": {
        "id": "lhQU6i4XKbZm"
      },
      "execution_count": null,
      "outputs": []
    },
    {
      "cell_type": "code",
      "source": [
        "ativo"
      ],
      "metadata": {
        "colab": {
          "base_uri": "https://localhost:8080/",
          "height": 35
        },
        "id": "YL-FoCdTKkOr",
        "outputId": "2d67e896-a217-41ce-a572-d243ff321474"
      },
      "execution_count": null,
      "outputs": [
        {
          "output_type": "execute_result",
          "data": {
            "text/plain": [
              "'LREN3'"
            ],
            "application/vnd.google.colaboratory.intrinsic+json": {
              "type": "string"
            }
          },
          "metadata": {},
          "execution_count": 23
        }
      ]
    },
    {
      "cell_type": "markdown",
      "source": [
        "Como os booleanos funcionam na prática?"
      ],
      "metadata": {
        "id": "LXJKOockKlJD"
      }
    },
    {
      "cell_type": "code",
      "source": [
        "True"
      ],
      "metadata": {
        "colab": {
          "base_uri": "https://localhost:8080/"
        },
        "id": "_tf9GK-tKv19",
        "outputId": "7ff2a3b3-b0a9-472d-8baa-aef17c9581f8"
      },
      "execution_count": null,
      "outputs": [
        {
          "output_type": "execute_result",
          "data": {
            "text/plain": [
              "True"
            ]
          },
          "metadata": {},
          "execution_count": 24
        }
      ]
    },
    {
      "cell_type": "code",
      "source": [
        "False"
      ],
      "metadata": {
        "colab": {
          "base_uri": "https://localhost:8080/"
        },
        "id": "_o3sLubKKw5D",
        "outputId": "13e922d2-8b23-4141-bef1-a8ce0d5a20c5"
      },
      "execution_count": null,
      "outputs": [
        {
          "output_type": "execute_result",
          "data": {
            "text/plain": [
              "False"
            ]
          },
          "metadata": {},
          "execution_count": 25
        }
      ]
    },
    {
      "cell_type": "code",
      "source": [
        "a"
      ],
      "metadata": {
        "colab": {
          "base_uri": "https://localhost:8080/"
        },
        "id": "c6Wy5YurKyfq",
        "outputId": "80bf386c-d0e7-4ecd-e8f1-69b7821d1fe5"
      },
      "execution_count": null,
      "outputs": [
        {
          "output_type": "execute_result",
          "data": {
            "text/plain": [
              "9"
            ]
          },
          "metadata": {},
          "execution_count": 26
        }
      ]
    },
    {
      "cell_type": "code",
      "source": [
        "b"
      ],
      "metadata": {
        "colab": {
          "base_uri": "https://localhost:8080/"
        },
        "id": "mKWQokQjK7bM",
        "outputId": "e4769d3e-7f44-46ed-eed4-be4ecbb4e9b6"
      },
      "execution_count": null,
      "outputs": [
        {
          "output_type": "execute_result",
          "data": {
            "text/plain": [
              "30.78"
            ]
          },
          "metadata": {},
          "execution_count": 27
        }
      ]
    },
    {
      "cell_type": "code",
      "source": [
        "c = 70"
      ],
      "metadata": {
        "id": "p3YPExXuK8V8"
      },
      "execution_count": null,
      "outputs": []
    },
    {
      "cell_type": "code",
      "source": [
        "a == b"
      ],
      "metadata": {
        "colab": {
          "base_uri": "https://localhost:8080/"
        },
        "id": "KE0erG8rLJKD",
        "outputId": "e41aeb7f-b6a2-414e-f4bc-35e3845ff88f"
      },
      "execution_count": null,
      "outputs": [
        {
          "output_type": "execute_result",
          "data": {
            "text/plain": [
              "False"
            ]
          },
          "metadata": {},
          "execution_count": 29
        }
      ]
    },
    {
      "cell_type": "code",
      "source": [
        "a = b"
      ],
      "metadata": {
        "id": "sk1j4OS9LNYr"
      },
      "execution_count": null,
      "outputs": []
    },
    {
      "cell_type": "code",
      "source": [
        "a"
      ],
      "metadata": {
        "colab": {
          "base_uri": "https://localhost:8080/"
        },
        "id": "GdMSN7K1LQdF",
        "outputId": "08f2db0d-e96d-4d4e-9ba6-5d074bd81c73"
      },
      "execution_count": null,
      "outputs": [
        {
          "output_type": "execute_result",
          "data": {
            "text/plain": [
              "30.78"
            ]
          },
          "metadata": {},
          "execution_count": 31
        }
      ]
    },
    {
      "cell_type": "code",
      "source": [
        "a == b"
      ],
      "metadata": {
        "colab": {
          "base_uri": "https://localhost:8080/"
        },
        "id": "hKnlowSkLRVq",
        "outputId": "6a374ecd-d1b1-4468-8919-f92933aafd53"
      },
      "execution_count": null,
      "outputs": [
        {
          "output_type": "execute_result",
          "data": {
            "text/plain": [
              "True"
            ]
          },
          "metadata": {},
          "execution_count": 32
        }
      ]
    },
    {
      "cell_type": "code",
      "source": [
        "condicao = a == b"
      ],
      "metadata": {
        "id": "S_23l1pWLYHU"
      },
      "execution_count": null,
      "outputs": []
    },
    {
      "cell_type": "code",
      "source": [
        "condicao"
      ],
      "metadata": {
        "id": "CGosXw_WLgpb",
        "outputId": "a73f9306-21e7-44d7-d347-2083105a7c92",
        "colab": {
          "base_uri": "https://localhost:8080/"
        }
      },
      "execution_count": null,
      "outputs": [
        {
          "output_type": "execute_result",
          "data": {
            "text/plain": [
              "True"
            ]
          },
          "metadata": {},
          "execution_count": 34
        }
      ]
    },
    {
      "cell_type": "markdown",
      "source": [
        "# 2. Operadores aritméticos"
      ],
      "metadata": {
        "id": "OlpmLAcyLhmD"
      }
    },
    {
      "cell_type": "markdown",
      "source": [
        "\n",
        "\n",
        "* Soma +\n",
        "* Subtração -\n",
        "* Multiplicação *\n",
        "* Divisão /\n",
        "* Divisão // (parte inteira)\n",
        "* Resto das divisões %\n",
        "* Potência **   \n",
        "\n"
      ],
      "metadata": {
        "id": "VtgKzKKzaht2"
      }
    },
    {
      "cell_type": "markdown",
      "source": [
        "Aprendendo com exercícios"
      ],
      "metadata": {
        "id": "6JEl-4IvbE2s"
      }
    },
    {
      "cell_type": "markdown",
      "source": [
        "No momento, as ações da PETR4 estão cotadas a 23.07 e as da VALE3 a 85.75. No mesmo dia, você fez duas aquisições: 100 de PETR4 e mais 200 de VALE3. Qual o valor que você investiu neste dia?"
      ],
      "metadata": {
        "id": "9Tj6A2zBbF9H"
      }
    },
    {
      "cell_type": "code",
      "source": [
        "100*23.07"
      ],
      "metadata": {
        "colab": {
          "base_uri": "https://localhost:8080/"
        },
        "id": "Gm-h4deIcbCc",
        "outputId": "c3182e1c-eb24-4de9-fbea-5fa52338e6b8"
      },
      "execution_count": null,
      "outputs": [
        {
          "output_type": "execute_result",
          "data": {
            "text/plain": [
              "2307.0"
            ]
          },
          "metadata": {},
          "execution_count": 1
        }
      ]
    },
    {
      "cell_type": "code",
      "source": [
        "200*85.75"
      ],
      "metadata": {
        "colab": {
          "base_uri": "https://localhost:8080/"
        },
        "id": "R-o149IOcwPN",
        "outputId": "ae99e42c-d009-4f63-fc0f-f58a810297d1"
      },
      "execution_count": null,
      "outputs": [
        {
          "output_type": "execute_result",
          "data": {
            "text/plain": [
              "17150.0"
            ]
          },
          "metadata": {},
          "execution_count": 2
        }
      ]
    },
    {
      "cell_type": "code",
      "source": [
        "2307.0 + 17150.0"
      ],
      "metadata": {
        "colab": {
          "base_uri": "https://localhost:8080/"
        },
        "id": "48wQDAHec2bk",
        "outputId": "78359d74-c71c-41c8-da92-87671c7b689c"
      },
      "execution_count": null,
      "outputs": [
        {
          "output_type": "execute_result",
          "data": {
            "text/plain": [
              "19457.0"
            ]
          },
          "metadata": {},
          "execution_count": 3
        }
      ]
    },
    {
      "cell_type": "code",
      "source": [
        "preco_petr4 = 23.07\n",
        "preco_vale3 = 85.75"
      ],
      "metadata": {
        "id": "FzPlqJa-c4Zc"
      },
      "execution_count": null,
      "outputs": []
    },
    {
      "cell_type": "code",
      "source": [
        "num_petr4 = 100\n",
        "num_vale3 = 200"
      ],
      "metadata": {
        "id": "lKe0qitpdHIC"
      },
      "execution_count": null,
      "outputs": []
    },
    {
      "cell_type": "code",
      "source": [
        "valor_petr4 = preco_petr4*num_petr4"
      ],
      "metadata": {
        "id": "QvlBnjqYdL5b"
      },
      "execution_count": null,
      "outputs": []
    },
    {
      "cell_type": "code",
      "source": [
        "valor_vale3 = preco_vale3*num_vale3"
      ],
      "metadata": {
        "id": "isLq-W9GdQPz"
      },
      "execution_count": null,
      "outputs": []
    },
    {
      "cell_type": "code",
      "source": [
        "investimento_total = valor_petr4 + valor_vale3"
      ],
      "metadata": {
        "id": "Tow8CY2bdUrj"
      },
      "execution_count": null,
      "outputs": []
    },
    {
      "cell_type": "code",
      "source": [
        "investimento_total"
      ],
      "metadata": {
        "colab": {
          "base_uri": "https://localhost:8080/"
        },
        "id": "Q_m2EUthdZg1",
        "outputId": "7d3df344-66ef-48a6-921f-b3f4c6794613"
      },
      "execution_count": null,
      "outputs": [
        {
          "output_type": "execute_result",
          "data": {
            "text/plain": [
              "19457.0"
            ]
          },
          "metadata": {},
          "execution_count": 9
        }
      ]
    },
    {
      "cell_type": "markdown",
      "source": [
        "Algumas outras possibilidades"
      ],
      "metadata": {
        "id": "fNK-28pRdajd"
      }
    },
    {
      "cell_type": "markdown",
      "source": [
        "Sabendo o valor total investido, e o valor da compra de VALE3, quanto foi investido em PETR4?"
      ],
      "metadata": {
        "id": "SKJLl6GDdfX1"
      }
    },
    {
      "cell_type": "code",
      "source": [
        "investimento_total - valor_vale3"
      ],
      "metadata": {
        "colab": {
          "base_uri": "https://localhost:8080/"
        },
        "id": "v6J3DLB2duoj",
        "outputId": "268fe389-e4d0-4e86-a070-4e406ca347b7"
      },
      "execution_count": null,
      "outputs": [
        {
          "output_type": "execute_result",
          "data": {
            "text/plain": [
              "2307.0"
            ]
          },
          "metadata": {},
          "execution_count": 10
        }
      ]
    },
    {
      "cell_type": "markdown",
      "source": [
        "Sabendo o valor investido em PETR4 e o número de ações compradas, qual era a cotação de PETR4 no momento da compra?"
      ],
      "metadata": {
        "id": "3x-cY5m5d0UV"
      }
    },
    {
      "cell_type": "code",
      "source": [
        "valor_petr4/num_petr4"
      ],
      "metadata": {
        "colab": {
          "base_uri": "https://localhost:8080/"
        },
        "id": "CWW3VsEwd-iK",
        "outputId": "cc033948-b708-475c-aad7-4b7979b62a23"
      },
      "execution_count": null,
      "outputs": [
        {
          "output_type": "execute_result",
          "data": {
            "text/plain": [
              "23.07"
            ]
          },
          "metadata": {},
          "execution_count": 11
        }
      ]
    },
    {
      "cell_type": "markdown",
      "source": [
        "Suponha que eu tenho R$ 4000 na carteira. Quantas ações de VALE3 eu consigo comprar?"
      ],
      "metadata": {
        "id": "O633fZ55eEAu"
      }
    },
    {
      "cell_type": "code",
      "source": [
        "carteira = 4000"
      ],
      "metadata": {
        "id": "-1Q5hbKVeRA8"
      },
      "execution_count": null,
      "outputs": []
    },
    {
      "cell_type": "code",
      "source": [
        "preco_vale3"
      ],
      "metadata": {
        "colab": {
          "base_uri": "https://localhost:8080/"
        },
        "id": "xQDrkhXZegrr",
        "outputId": "5afc41e3-0bc0-405e-d1ff-00d7db3956f4"
      },
      "execution_count": null,
      "outputs": [
        {
          "output_type": "execute_result",
          "data": {
            "text/plain": [
              "85.75"
            ]
          },
          "metadata": {},
          "execution_count": 13
        }
      ]
    },
    {
      "cell_type": "code",
      "source": [
        "carteira/preco_vale3"
      ],
      "metadata": {
        "colab": {
          "base_uri": "https://localhost:8080/"
        },
        "id": "RE2wfynheh5b",
        "outputId": "7d499aba-2b74-4e75-c1f3-c6168af10342"
      },
      "execution_count": null,
      "outputs": [
        {
          "output_type": "execute_result",
          "data": {
            "text/plain": [
              "46.647230320699705"
            ]
          },
          "metadata": {},
          "execution_count": 14
        }
      ]
    },
    {
      "cell_type": "markdown",
      "source": [
        "É aí que entra o operador da divisão da parte inteira"
      ],
      "metadata": {
        "id": "SwiRdzEaeoNT"
      }
    },
    {
      "cell_type": "code",
      "source": [
        "carteira//preco_vale3"
      ],
      "metadata": {
        "colab": {
          "base_uri": "https://localhost:8080/"
        },
        "id": "DhQ8rhCHe21s",
        "outputId": "33a1c370-8472-4926-c4e1-f286e3164035"
      },
      "execution_count": null,
      "outputs": [
        {
          "output_type": "execute_result",
          "data": {
            "text/plain": [
              "46.0"
            ]
          },
          "metadata": {},
          "execution_count": 15
        }
      ]
    },
    {
      "cell_type": "code",
      "source": [
        "10//4"
      ],
      "metadata": {
        "colab": {
          "base_uri": "https://localhost:8080/"
        },
        "id": "-rKzdqale5p7",
        "outputId": "494f20bf-e575-4eb9-ebb1-d2f597a373c7"
      },
      "execution_count": null,
      "outputs": [
        {
          "output_type": "execute_result",
          "data": {
            "text/plain": [
              "2"
            ]
          },
          "metadata": {},
          "execution_count": 16
        }
      ]
    },
    {
      "cell_type": "code",
      "source": [
        "10//3"
      ],
      "metadata": {
        "colab": {
          "base_uri": "https://localhost:8080/"
        },
        "id": "x4NNXhVxfA9i",
        "outputId": "a02ef26c-0c9e-4553-e0c8-a72b4155baa4"
      },
      "execution_count": null,
      "outputs": [
        {
          "output_type": "execute_result",
          "data": {
            "text/plain": [
              "3"
            ]
          },
          "metadata": {},
          "execution_count": 17
        }
      ]
    },
    {
      "cell_type": "markdown",
      "source": [
        "Resto das divisões"
      ],
      "metadata": {
        "id": "C2x5fXUgfE8y"
      }
    },
    {
      "cell_type": "code",
      "source": [
        "10/2"
      ],
      "metadata": {
        "colab": {
          "base_uri": "https://localhost:8080/"
        },
        "id": "MCPNz_eifQra",
        "outputId": "045e4b28-8a89-40b1-978f-ae84b4bf185b"
      },
      "execution_count": null,
      "outputs": [
        {
          "output_type": "execute_result",
          "data": {
            "text/plain": [
              "5.0"
            ]
          },
          "metadata": {},
          "execution_count": 18
        }
      ]
    },
    {
      "cell_type": "code",
      "source": [
        "10 % 2"
      ],
      "metadata": {
        "colab": {
          "base_uri": "https://localhost:8080/"
        },
        "id": "SBDjtVFFftOs",
        "outputId": "c9c0b6ee-6ee1-4bbd-a2f2-ad3ffe21df2e"
      },
      "execution_count": null,
      "outputs": [
        {
          "output_type": "execute_result",
          "data": {
            "text/plain": [
              "0"
            ]
          },
          "metadata": {},
          "execution_count": 19
        }
      ]
    },
    {
      "cell_type": "code",
      "source": [
        "10/3"
      ],
      "metadata": {
        "colab": {
          "base_uri": "https://localhost:8080/"
        },
        "id": "THWfaC2ofwUb",
        "outputId": "25b6a107-86bc-4380-b992-303295a0bc5e"
      },
      "execution_count": null,
      "outputs": [
        {
          "output_type": "execute_result",
          "data": {
            "text/plain": [
              "3.3333333333333335"
            ]
          },
          "metadata": {},
          "execution_count": 20
        }
      ]
    },
    {
      "cell_type": "code",
      "source": [
        "10 % 3"
      ],
      "metadata": {
        "colab": {
          "base_uri": "https://localhost:8080/"
        },
        "id": "XIZh8yMafxl6",
        "outputId": "e120c629-4d87-4cf4-b0c9-ef42ae982fd5"
      },
      "execution_count": null,
      "outputs": [
        {
          "output_type": "execute_result",
          "data": {
            "text/plain": [
              "1"
            ]
          },
          "metadata": {},
          "execution_count": 21
        }
      ]
    },
    {
      "cell_type": "markdown",
      "source": [
        "Vamos utilizar os R$ 4000 da nossa conta de investimentos para aplicar em sua maioria em papéis da VALE3.\n",
        "\n",
        "Vamos utilizar o que sobrar para comprar algum outro papel mais barato.\n",
        "\n",
        "Quantas ações de MGLU3 nós conseguimos comprar?"
      ],
      "metadata": {
        "id": "3bLNY_7Cf0nz"
      }
    },
    {
      "cell_type": "code",
      "source": [
        "preco_mglu3 = 2.82"
      ],
      "metadata": {
        "id": "cMeR-ACpgFRM"
      },
      "execution_count": null,
      "outputs": []
    },
    {
      "cell_type": "markdown",
      "source": [
        "1. Quantos ações de VALE3 nós conseguimos comprar?"
      ],
      "metadata": {
        "id": "0FiP8RRYgO4b"
      }
    },
    {
      "cell_type": "code",
      "source": [
        "4000//preco_vale3"
      ],
      "metadata": {
        "colab": {
          "base_uri": "https://localhost:8080/"
        },
        "id": "v6Sh_jtlghQL",
        "outputId": "51527a38-5f4f-4269-da24-7c922034a389"
      },
      "execution_count": null,
      "outputs": [
        {
          "output_type": "execute_result",
          "data": {
            "text/plain": [
              "46.0"
            ]
          },
          "metadata": {},
          "execution_count": 24
        }
      ]
    },
    {
      "cell_type": "code",
      "source": [
        "preco_vale3*46"
      ],
      "metadata": {
        "colab": {
          "base_uri": "https://localhost:8080/"
        },
        "id": "jtCD185ngod7",
        "outputId": "aa4ef371-97f7-4436-cdf6-ab4d9b3a1ded"
      },
      "execution_count": null,
      "outputs": [
        {
          "output_type": "execute_result",
          "data": {
            "text/plain": [
              "3944.5"
            ]
          },
          "metadata": {},
          "execution_count": 25
        }
      ]
    },
    {
      "cell_type": "code",
      "source": [
        "investimento_vale3 = preco_vale3*46"
      ],
      "metadata": {
        "id": "z6md3Xzhgwyb"
      },
      "execution_count": null,
      "outputs": []
    },
    {
      "cell_type": "code",
      "source": [
        "sobra = 4000 - investimento_vale3"
      ],
      "metadata": {
        "id": "WU7yNlpvg3A7"
      },
      "execution_count": null,
      "outputs": []
    },
    {
      "cell_type": "code",
      "source": [
        "sobra"
      ],
      "metadata": {
        "colab": {
          "base_uri": "https://localhost:8080/"
        },
        "id": "0LOW4i2_g7or",
        "outputId": "1540acc4-7410-4d1f-f5bb-ce36b9439d5a"
      },
      "execution_count": null,
      "outputs": [
        {
          "output_type": "execute_result",
          "data": {
            "text/plain": [
              "55.5"
            ]
          },
          "metadata": {},
          "execution_count": 28
        }
      ]
    },
    {
      "cell_type": "code",
      "source": [
        "sobra // preco_mglu3"
      ],
      "metadata": {
        "colab": {
          "base_uri": "https://localhost:8080/"
        },
        "id": "Lzfsru-Pg8Si",
        "outputId": "2ff9699c-cf52-4d93-e039-669a1fd91201"
      },
      "execution_count": null,
      "outputs": [
        {
          "output_type": "execute_result",
          "data": {
            "text/plain": [
              "19.0"
            ]
          },
          "metadata": {},
          "execution_count": 29
        }
      ]
    },
    {
      "cell_type": "markdown",
      "source": [
        "Toda essa operação poderia ter sido feita de uma forma mais simples"
      ],
      "metadata": {
        "id": "QFPPREfzhHir"
      }
    },
    {
      "cell_type": "code",
      "source": [
        "resto_divisao = 4000 % preco_vale3"
      ],
      "metadata": {
        "id": "ZUqxo-P0hT4W"
      },
      "execution_count": null,
      "outputs": []
    },
    {
      "cell_type": "code",
      "source": [
        "resto_divisao // preco_mglu3"
      ],
      "metadata": {
        "colab": {
          "base_uri": "https://localhost:8080/"
        },
        "id": "cFsTPMTjhqIi",
        "outputId": "29fc215c-b216-4272-d2de-5100cb97ba17"
      },
      "execution_count": null,
      "outputs": [
        {
          "output_type": "execute_result",
          "data": {
            "text/plain": [
              "19.0"
            ]
          },
          "metadata": {},
          "execution_count": 32
        }
      ]
    },
    {
      "cell_type": "markdown",
      "source": [
        "Potenciação"
      ],
      "metadata": {
        "id": "7rlQdlrbhrCK"
      }
    },
    {
      "cell_type": "code",
      "source": [
        "2**2"
      ],
      "metadata": {
        "colab": {
          "base_uri": "https://localhost:8080/"
        },
        "id": "sOmt0tLiiqjT",
        "outputId": "647acee8-11d5-4635-e882-7dee60d653f6"
      },
      "execution_count": null,
      "outputs": [
        {
          "output_type": "execute_result",
          "data": {
            "text/plain": [
              "4"
            ]
          },
          "metadata": {},
          "execution_count": 33
        }
      ]
    },
    {
      "cell_type": "code",
      "source": [
        "2**3"
      ],
      "metadata": {
        "colab": {
          "base_uri": "https://localhost:8080/"
        },
        "id": "WXdK1G8Nit_b",
        "outputId": "7aef29c2-b906-4b70-b234-fada4aa5d948"
      },
      "execution_count": null,
      "outputs": [
        {
          "output_type": "execute_result",
          "data": {
            "text/plain": [
              "8"
            ]
          },
          "metadata": {},
          "execution_count": 34
        }
      ]
    },
    {
      "cell_type": "code",
      "source": [
        "2**4"
      ],
      "metadata": {
        "colab": {
          "base_uri": "https://localhost:8080/"
        },
        "id": "1THA8mVxivCy",
        "outputId": "5861b3cb-99ab-4a0a-934d-a19d3df82b3e"
      },
      "execution_count": null,
      "outputs": [
        {
          "output_type": "execute_result",
          "data": {
            "text/plain": [
              "16"
            ]
          },
          "metadata": {},
          "execution_count": 35
        }
      ]
    },
    {
      "cell_type": "markdown",
      "source": [
        "# 3. Operações lógicas"
      ],
      "metadata": {
        "id": "LEXscFTriwRC"
      }
    },
    {
      "cell_type": "markdown",
      "source": [
        "## 3.1. Operadores comparativos"
      ],
      "metadata": {
        "id": "BlKWhRXhsMYL"
      }
    },
    {
      "cell_type": "markdown",
      "source": [
        "* Igualdade ==\n",
        "* Diferença !=\n",
        "* Menor <\n",
        "* Maior >\n",
        "* Menor ou igual <=\n",
        "* Maior ou igual >=\n",
        "\n",
        "\n"
      ],
      "metadata": {
        "id": "oeYcjsujsd8x"
      }
    },
    {
      "cell_type": "markdown",
      "source": [
        "Exemplo: vamos testar se o investimento feito em PETR4 foi igual ao investimento feito em VALE3."
      ],
      "metadata": {
        "id": "lUPLE-ats7mY"
      }
    },
    {
      "cell_type": "code",
      "source": [
        "valor_petr4"
      ],
      "metadata": {
        "colab": {
          "base_uri": "https://localhost:8080/"
        },
        "id": "NNNXxgbVs9O5",
        "outputId": "5e853552-257c-4362-ed96-7a4c5450f8d2"
      },
      "execution_count": null,
      "outputs": [
        {
          "output_type": "execute_result",
          "data": {
            "text/plain": [
              "2307.0"
            ]
          },
          "metadata": {},
          "execution_count": 36
        }
      ]
    },
    {
      "cell_type": "code",
      "source": [
        "valor_vale3"
      ],
      "metadata": {
        "colab": {
          "base_uri": "https://localhost:8080/"
        },
        "id": "MnGJR3JetAKx",
        "outputId": "a665b71a-48dc-41f7-96e6-cc53307c5582"
      },
      "execution_count": null,
      "outputs": [
        {
          "output_type": "execute_result",
          "data": {
            "text/plain": [
              "17150.0"
            ]
          },
          "metadata": {},
          "execution_count": 37
        }
      ]
    },
    {
      "cell_type": "code",
      "source": [
        "valor_petr4 == valor_vale3"
      ],
      "metadata": {
        "colab": {
          "base_uri": "https://localhost:8080/"
        },
        "id": "EEebClvUtB9Q",
        "outputId": "fe321322-c6c9-45bd-caeb-c17bd4ac2fd2"
      },
      "execution_count": null,
      "outputs": [
        {
          "output_type": "execute_result",
          "data": {
            "text/plain": [
              "False"
            ]
          },
          "metadata": {},
          "execution_count": 38
        }
      ]
    },
    {
      "cell_type": "code",
      "source": [
        "novo_investimento_petr4 = valor_vale3"
      ],
      "metadata": {
        "id": "vCPCvI1KtIYR"
      },
      "execution_count": null,
      "outputs": []
    },
    {
      "cell_type": "code",
      "source": [
        "novo_investimento_petr4 == valor_petr4"
      ],
      "metadata": {
        "colab": {
          "base_uri": "https://localhost:8080/"
        },
        "id": "KDnT21QXtRpS",
        "outputId": "abbfac7d-3a99-4639-f167-a2aef8923333"
      },
      "execution_count": null,
      "outputs": [
        {
          "output_type": "execute_result",
          "data": {
            "text/plain": [
              "False"
            ]
          },
          "metadata": {},
          "execution_count": 40
        }
      ]
    },
    {
      "cell_type": "code",
      "source": [
        "novo_investimento_petr4 == valor_vale3"
      ],
      "metadata": {
        "colab": {
          "base_uri": "https://localhost:8080/"
        },
        "id": "RREb4DzitUgq",
        "outputId": "3aa85864-dcff-4a1d-8f2d-ab6c17a43b96"
      },
      "execution_count": null,
      "outputs": [
        {
          "output_type": "execute_result",
          "data": {
            "text/plain": [
              "True"
            ]
          },
          "metadata": {},
          "execution_count": 41
        }
      ]
    },
    {
      "cell_type": "markdown",
      "source": [
        "Para o operador de diferença, usamos o mesmo raciocínio."
      ],
      "metadata": {
        "id": "M9LU2ij3tZK6"
      }
    },
    {
      "cell_type": "code",
      "source": [
        "valor_petr4 != valor_vale3"
      ],
      "metadata": {
        "colab": {
          "base_uri": "https://localhost:8080/"
        },
        "id": "Ui1O5xzbtb_r",
        "outputId": "de778f19-56a0-44f1-9bcf-c85716e3c375"
      },
      "execution_count": null,
      "outputs": [
        {
          "output_type": "execute_result",
          "data": {
            "text/plain": [
              "True"
            ]
          },
          "metadata": {},
          "execution_count": 42
        }
      ]
    },
    {
      "cell_type": "code",
      "source": [
        "novo_investimento_petr4 != valor_vale3"
      ],
      "metadata": {
        "colab": {
          "base_uri": "https://localhost:8080/"
        },
        "id": "2mYzhDr2tdiy",
        "outputId": "c4455080-27a6-403e-f4c2-3669a08ebc50"
      },
      "execution_count": null,
      "outputs": [
        {
          "output_type": "execute_result",
          "data": {
            "text/plain": [
              "False"
            ]
          },
          "metadata": {},
          "execution_count": 43
        }
      ]
    },
    {
      "cell_type": "markdown",
      "source": [
        "Vamos fazer alguns exemplos com os operadores menor e maior."
      ],
      "metadata": {
        "id": "FaHSWQ1Ztd4C"
      }
    },
    {
      "cell_type": "code",
      "source": [
        "valor_petr4 > valor_vale3"
      ],
      "metadata": {
        "colab": {
          "base_uri": "https://localhost:8080/"
        },
        "id": "KXVD-6z0tqOy",
        "outputId": "783edef0-8ebd-4f5b-bf3c-d4c564f63918"
      },
      "execution_count": null,
      "outputs": [
        {
          "output_type": "execute_result",
          "data": {
            "text/plain": [
              "False"
            ]
          },
          "metadata": {},
          "execution_count": 44
        }
      ]
    },
    {
      "cell_type": "code",
      "source": [
        "novo_investimento_petr4"
      ],
      "metadata": {
        "colab": {
          "base_uri": "https://localhost:8080/"
        },
        "id": "M1_fYzZztuSU",
        "outputId": "a9ee1f95-01c6-4b65-f766-538c6b271b4a"
      },
      "execution_count": null,
      "outputs": [
        {
          "output_type": "execute_result",
          "data": {
            "text/plain": [
              "17150.0"
            ]
          },
          "metadata": {},
          "execution_count": 45
        }
      ]
    },
    {
      "cell_type": "code",
      "source": [
        "novo_investimento_petr4 <= valor_vale3"
      ],
      "metadata": {
        "colab": {
          "base_uri": "https://localhost:8080/"
        },
        "id": "Kn4wTUHqt_Uw",
        "outputId": "152e0abd-72f9-40e8-ee4c-b1cad150a3e8"
      },
      "execution_count": null,
      "outputs": [
        {
          "output_type": "execute_result",
          "data": {
            "text/plain": [
              "True"
            ]
          },
          "metadata": {},
          "execution_count": 46
        }
      ]
    },
    {
      "cell_type": "markdown",
      "source": [
        "Vamos testar algumas dessas condições com textos (strings)"
      ],
      "metadata": {
        "id": "_fmL7eWDuP2B"
      }
    },
    {
      "cell_type": "code",
      "source": [
        "papel01 = 'MGLU3'\n",
        "papel02 = 'LREN3'"
      ],
      "metadata": {
        "id": "6P--u06cuS6p"
      },
      "execution_count": null,
      "outputs": []
    },
    {
      "cell_type": "code",
      "source": [
        "papel01"
      ],
      "metadata": {
        "colab": {
          "base_uri": "https://localhost:8080/",
          "height": 36
        },
        "id": "HvR2TCc7ufh5",
        "outputId": "3f2d6613-4af0-4365-ee3b-a62b4e2fc0da"
      },
      "execution_count": null,
      "outputs": [
        {
          "output_type": "execute_result",
          "data": {
            "text/plain": [
              "'MGLU3'"
            ],
            "application/vnd.google.colaboratory.intrinsic+json": {
              "type": "string"
            }
          },
          "metadata": {},
          "execution_count": 48
        }
      ]
    },
    {
      "cell_type": "code",
      "source": [
        "papel02"
      ],
      "metadata": {
        "colab": {
          "base_uri": "https://localhost:8080/",
          "height": 36
        },
        "id": "0P3dsqxzugdL",
        "outputId": "b017ae3b-3a13-46bd-d8af-68bb35b04c3a"
      },
      "execution_count": null,
      "outputs": [
        {
          "output_type": "execute_result",
          "data": {
            "text/plain": [
              "'LREN3'"
            ],
            "application/vnd.google.colaboratory.intrinsic+json": {
              "type": "string"
            }
          },
          "metadata": {},
          "execution_count": 49
        }
      ]
    },
    {
      "cell_type": "code",
      "source": [
        "papel01 == papel02"
      ],
      "metadata": {
        "colab": {
          "base_uri": "https://localhost:8080/"
        },
        "id": "FG-nf3jEukFy",
        "outputId": "0f976e13-33d1-4665-fe7b-bf785f167c31"
      },
      "execution_count": null,
      "outputs": [
        {
          "output_type": "execute_result",
          "data": {
            "text/plain": [
              "False"
            ]
          },
          "metadata": {},
          "execution_count": 50
        }
      ]
    },
    {
      "cell_type": "code",
      "source": [
        "papel01 != papel02"
      ],
      "metadata": {
        "colab": {
          "base_uri": "https://localhost:8080/"
        },
        "id": "LjqhynEWuhZz",
        "outputId": "6b957ac3-f3ba-4860-a121-a35bbfbee6da"
      },
      "execution_count": null,
      "outputs": [
        {
          "output_type": "execute_result",
          "data": {
            "text/plain": [
              "True"
            ]
          },
          "metadata": {},
          "execution_count": 51
        }
      ]
    },
    {
      "cell_type": "code",
      "source": [],
      "metadata": {
        "id": "ms3ugOZyupJr"
      },
      "execution_count": null,
      "outputs": []
    },
    {
      "cell_type": "markdown",
      "source": [
        "## 3.2. Operadores condicionais"
      ],
      "metadata": {
        "id": "QcRmYasKsbqY"
      }
    },
    {
      "cell_type": "markdown",
      "source": [
        "* and (e)\n",
        "\n",
        "* or (ou)\n",
        "* not"
      ],
      "metadata": {
        "id": "J8Yr7iwpsgeh"
      }
    },
    {
      "cell_type": "code",
      "source": [
        "num_petr4"
      ],
      "metadata": {
        "colab": {
          "base_uri": "https://localhost:8080/"
        },
        "id": "Hkn302CzwS1J",
        "outputId": "bcfc5cd5-f1bb-4f3a-c9a7-cbe93ff51f00"
      },
      "execution_count": null,
      "outputs": [
        {
          "output_type": "execute_result",
          "data": {
            "text/plain": [
              "100"
            ]
          },
          "metadata": {},
          "execution_count": 52
        }
      ]
    },
    {
      "cell_type": "code",
      "source": [
        "num_vale3"
      ],
      "metadata": {
        "colab": {
          "base_uri": "https://localhost:8080/"
        },
        "id": "aq-aI6aRwWHx",
        "outputId": "f6b21b88-3c2c-4ab9-b2f7-7a4f0e32da60"
      },
      "execution_count": null,
      "outputs": [
        {
          "output_type": "execute_result",
          "data": {
            "text/plain": [
              "200"
            ]
          },
          "metadata": {},
          "execution_count": 53
        }
      ]
    },
    {
      "cell_type": "code",
      "source": [
        "num_vale3 > num_petr4"
      ],
      "metadata": {
        "colab": {
          "base_uri": "https://localhost:8080/"
        },
        "id": "rBKbZ1ZdwYDA",
        "outputId": "2ea55929-ed2a-4c29-8d60-6462172244a7"
      },
      "execution_count": null,
      "outputs": [
        {
          "output_type": "execute_result",
          "data": {
            "text/plain": [
              "True"
            ]
          },
          "metadata": {},
          "execution_count": 54
        }
      ]
    },
    {
      "cell_type": "code",
      "source": [
        "num_mglu3 = 100\n",
        "num_lren3 = 50\n",
        "num_bbas3 = 200"
      ],
      "metadata": {
        "id": "xjmvhIU0wbTx"
      },
      "execution_count": null,
      "outputs": []
    },
    {
      "cell_type": "markdown",
      "source": [
        "Utilizando o operador 'and'"
      ],
      "metadata": {
        "id": "1n4AF5IDwjvC"
      }
    },
    {
      "cell_type": "code",
      "source": [
        "num_vale3 > num_petr4 and num_mglu3 > num_lren3"
      ],
      "metadata": {
        "colab": {
          "base_uri": "https://localhost:8080/"
        },
        "id": "UAHbTbuVws_h",
        "outputId": "6a5041e2-0f75-4fcf-ec14-b897eb127658"
      },
      "execution_count": null,
      "outputs": [
        {
          "output_type": "execute_result",
          "data": {
            "text/plain": [
              "True"
            ]
          },
          "metadata": {},
          "execution_count": 57
        }
      ]
    },
    {
      "cell_type": "code",
      "source": [
        "num_vale3 > num_petr4 and num_mglu3 > num_bbas3"
      ],
      "metadata": {
        "colab": {
          "base_uri": "https://localhost:8080/"
        },
        "id": "hpYhMvp-w4qZ",
        "outputId": "58357a9d-463d-4722-bb54-13538904978f"
      },
      "execution_count": null,
      "outputs": [
        {
          "output_type": "execute_result",
          "data": {
            "text/plain": [
              "False"
            ]
          },
          "metadata": {},
          "execution_count": 58
        }
      ]
    },
    {
      "cell_type": "code",
      "source": [
        "(num_vale3 > num_petr4) and (num_mglu3 > num_bbas3)"
      ],
      "metadata": {
        "colab": {
          "base_uri": "https://localhost:8080/"
        },
        "id": "ef6O_z3oxD4B",
        "outputId": "6c0f1395-bdb2-4b91-cc62-5de0f624d1ac"
      },
      "execution_count": null,
      "outputs": [
        {
          "output_type": "execute_result",
          "data": {
            "text/plain": [
              "False"
            ]
          },
          "metadata": {},
          "execution_count": 59
        }
      ]
    },
    {
      "cell_type": "code",
      "source": [
        "num_vale3 > num_petr4 and num_mglu3 > num_lren3 and num_vale3 > num_lren3"
      ],
      "metadata": {
        "colab": {
          "base_uri": "https://localhost:8080/"
        },
        "id": "cgUUWUO6xPA5",
        "outputId": "d0328d2c-7cab-4438-b8ec-2edf78d4e045"
      },
      "execution_count": null,
      "outputs": [
        {
          "output_type": "execute_result",
          "data": {
            "text/plain": [
              "True"
            ]
          },
          "metadata": {},
          "execution_count": 60
        }
      ]
    },
    {
      "cell_type": "code",
      "source": [
        "(num_vale3 > num_petr4) and (num_mglu3 > num_lren3) and (num_vale3 > num_lren3)"
      ],
      "metadata": {
        "colab": {
          "base_uri": "https://localhost:8080/"
        },
        "id": "t7o8CYSBxXTS",
        "outputId": "c38a26e4-6b84-454e-bf15-afc27f1872a8"
      },
      "execution_count": null,
      "outputs": [
        {
          "output_type": "execute_result",
          "data": {
            "text/plain": [
              "True"
            ]
          },
          "metadata": {},
          "execution_count": 61
        }
      ]
    },
    {
      "cell_type": "code",
      "source": [
        "(num_vale3 > num_petr4) & (num_mglu3 > num_lren3) & (num_vale3 > num_lren3)"
      ],
      "metadata": {
        "colab": {
          "base_uri": "https://localhost:8080/"
        },
        "id": "D8D4WF5IxfS5",
        "outputId": "3769674e-1532-4799-a682-d0ad80a5cc8b"
      },
      "execution_count": null,
      "outputs": [
        {
          "output_type": "execute_result",
          "data": {
            "text/plain": [
              "True"
            ]
          },
          "metadata": {},
          "execution_count": 63
        }
      ]
    },
    {
      "cell_type": "code",
      "source": [
        "(num_vale3 > num_petr4) & (num_mglu3 > num_bbas3)"
      ],
      "metadata": {
        "colab": {
          "base_uri": "https://localhost:8080/"
        },
        "id": "OD6rXQQXyMV5",
        "outputId": "04f4af8d-a8aa-4754-b5a1-f4a50871644f"
      },
      "execution_count": null,
      "outputs": [
        {
          "output_type": "execute_result",
          "data": {
            "text/plain": [
              "False"
            ]
          },
          "metadata": {},
          "execution_count": 64
        }
      ]
    },
    {
      "cell_type": "markdown",
      "source": [
        "Utilizando o operador 'or'"
      ],
      "metadata": {
        "id": "nsJ6LmhyyQ5x"
      }
    },
    {
      "cell_type": "code",
      "source": [
        "num_vale3 > num_petr4 or num_mglu3 > num_lren3"
      ],
      "metadata": {
        "colab": {
          "base_uri": "https://localhost:8080/"
        },
        "id": "TFC5290TyU2r",
        "outputId": "548661bf-8586-491b-c98b-30836fbbf6fc"
      },
      "execution_count": null,
      "outputs": [
        {
          "output_type": "execute_result",
          "data": {
            "text/plain": [
              "True"
            ]
          },
          "metadata": {},
          "execution_count": 65
        }
      ]
    },
    {
      "cell_type": "code",
      "source": [
        "num_vale3 > num_petr4 or num_mglu3 > num_bbas3"
      ],
      "metadata": {
        "colab": {
          "base_uri": "https://localhost:8080/"
        },
        "id": "8I1TpUPIydRQ",
        "outputId": "224ef38c-9583-49ff-a01c-51f9493e14af"
      },
      "execution_count": null,
      "outputs": [
        {
          "output_type": "execute_result",
          "data": {
            "text/plain": [
              "True"
            ]
          },
          "metadata": {},
          "execution_count": 66
        }
      ]
    },
    {
      "cell_type": "code",
      "source": [
        "num_vale3 == num_petr4 or num_mglu3 > num_bbas3"
      ],
      "metadata": {
        "colab": {
          "base_uri": "https://localhost:8080/"
        },
        "id": "C_OlSd1Eyh9I",
        "outputId": "9c7c6d58-6b63-400e-eb56-7c5402392e03"
      },
      "execution_count": null,
      "outputs": [
        {
          "output_type": "execute_result",
          "data": {
            "text/plain": [
              "False"
            ]
          },
          "metadata": {},
          "execution_count": 67
        }
      ]
    },
    {
      "cell_type": "code",
      "source": [
        "num_vale3 == num_petr4 or num_mglu3 != num_bbas3"
      ],
      "metadata": {
        "colab": {
          "base_uri": "https://localhost:8080/"
        },
        "id": "MHSssllSy42A",
        "outputId": "624b5f4f-bdf5-4b58-80a6-9ebc51c09620"
      },
      "execution_count": null,
      "outputs": [
        {
          "output_type": "execute_result",
          "data": {
            "text/plain": [
              "True"
            ]
          },
          "metadata": {},
          "execution_count": 68
        }
      ]
    },
    {
      "cell_type": "code",
      "source": [
        "(num_vale3 == num_petr4 ) | (num_mglu3 != num_bbas3)"
      ],
      "metadata": {
        "colab": {
          "base_uri": "https://localhost:8080/"
        },
        "id": "cU9_F0DbzAzo",
        "outputId": "7e09694c-65f9-4ce3-b3cb-3886dc5b7098"
      },
      "execution_count": null,
      "outputs": [
        {
          "output_type": "execute_result",
          "data": {
            "text/plain": [
              "True"
            ]
          },
          "metadata": {},
          "execution_count": 73
        }
      ]
    },
    {
      "cell_type": "code",
      "source": [
        "(num_vale3 == num_petr4 ) | (num_mglu3 > num_bbas3)"
      ],
      "metadata": {
        "colab": {
          "base_uri": "https://localhost:8080/"
        },
        "id": "ThQDbFBQzeJZ",
        "outputId": "08ebddea-b67a-4ccf-9931-053b13871b78"
      },
      "execution_count": null,
      "outputs": [
        {
          "output_type": "execute_result",
          "data": {
            "text/plain": [
              "False"
            ]
          },
          "metadata": {},
          "execution_count": 75
        }
      ]
    },
    {
      "cell_type": "markdown",
      "source": [
        "Utilizando o operador 'not'"
      ],
      "metadata": {
        "id": "rPfDu2Igz2yQ"
      }
    },
    {
      "cell_type": "code",
      "source": [
        "(num_vale3 > num_petr4) or (num_mglu3 > num_lren3)"
      ],
      "metadata": {
        "colab": {
          "base_uri": "https://localhost:8080/"
        },
        "id": "jH8pA3Mx0Gyx",
        "outputId": "71dbd2ad-c981-42e5-ba83-790f7f22423f"
      },
      "execution_count": null,
      "outputs": [
        {
          "output_type": "execute_result",
          "data": {
            "text/plain": [
              "True"
            ]
          },
          "metadata": {},
          "execution_count": 76
        }
      ]
    },
    {
      "cell_type": "code",
      "source": [
        "not((num_vale3 > num_petr4) or (num_mglu3 > num_lren3))"
      ],
      "metadata": {
        "colab": {
          "base_uri": "https://localhost:8080/"
        },
        "id": "Ke9BEOp20NjI",
        "outputId": "664207cd-1b0b-4e6b-fba4-b9b570eec800"
      },
      "execution_count": null,
      "outputs": [
        {
          "output_type": "execute_result",
          "data": {
            "text/plain": [
              "False"
            ]
          },
          "metadata": {},
          "execution_count": 77
        }
      ]
    },
    {
      "cell_type": "markdown",
      "source": [
        "Operadores de identidade"
      ],
      "metadata": {
        "id": "eEigOB9Z0ZKI"
      }
    },
    {
      "cell_type": "code",
      "source": [
        "num_vale3"
      ],
      "metadata": {
        "colab": {
          "base_uri": "https://localhost:8080/"
        },
        "id": "XuN7MI940jJK",
        "outputId": "724b3fed-382d-45e3-d8c2-f1783b1720fa"
      },
      "execution_count": null,
      "outputs": [
        {
          "output_type": "execute_result",
          "data": {
            "text/plain": [
              "200"
            ]
          },
          "metadata": {},
          "execution_count": 79
        }
      ]
    },
    {
      "cell_type": "code",
      "source": [
        "num_vale3 is num_petr4"
      ],
      "metadata": {
        "colab": {
          "base_uri": "https://localhost:8080/"
        },
        "id": "5cS2tZ4R0so5",
        "outputId": "a5a126f4-67b2-4273-d749-a5bf823fa3e9"
      },
      "execution_count": null,
      "outputs": [
        {
          "output_type": "execute_result",
          "data": {
            "text/plain": [
              "False"
            ]
          },
          "metadata": {},
          "execution_count": 80
        }
      ]
    },
    {
      "cell_type": "code",
      "source": [
        "num_vale3 is not num_petr4"
      ],
      "metadata": {
        "colab": {
          "base_uri": "https://localhost:8080/"
        },
        "id": "nklHHfOt0vpx",
        "outputId": "a587de78-08b4-48b4-bcf1-d9500c00f2ae"
      },
      "execution_count": null,
      "outputs": [
        {
          "output_type": "execute_result",
          "data": {
            "text/plain": [
              "True"
            ]
          },
          "metadata": {},
          "execution_count": 81
        }
      ]
    },
    {
      "cell_type": "markdown",
      "source": [
        "# 4. Strings"
      ],
      "metadata": {
        "id": "VtGuuYbX01PI"
      }
    },
    {
      "cell_type": "markdown",
      "source": [
        "## 4.1. Noções básicas"
      ],
      "metadata": {
        "id": "lZnmf_q6ZNPS"
      }
    },
    {
      "cell_type": "markdown",
      "source": [
        "Antes de tudo, é importante prestar atenção na diferença de significado de uma variável numérica (int ou float) e uma variável de texto (ou string, str)"
      ],
      "metadata": {
        "id": "LushMGMcZpsa"
      }
    },
    {
      "cell_type": "code",
      "source": [
        "type(12)"
      ],
      "metadata": {
        "colab": {
          "base_uri": "https://localhost:8080/"
        },
        "id": "2KOrhiTZZrNj",
        "outputId": "bb48b3ce-12ad-4f84-86c5-30b38fc65754"
      },
      "execution_count": null,
      "outputs": [
        {
          "output_type": "execute_result",
          "data": {
            "text/plain": [
              "int"
            ]
          },
          "metadata": {},
          "execution_count": 3
        }
      ]
    },
    {
      "cell_type": "code",
      "source": [
        "type('12')"
      ],
      "metadata": {
        "colab": {
          "base_uri": "https://localhost:8080/"
        },
        "id": "Hh8DQ9xtZtb9",
        "outputId": "8f75ba57-28dd-4e82-cdd6-49c3d4a36bf2"
      },
      "execution_count": null,
      "outputs": [
        {
          "output_type": "execute_result",
          "data": {
            "text/plain": [
              "str"
            ]
          },
          "metadata": {},
          "execution_count": 4
        }
      ]
    },
    {
      "cell_type": "code",
      "source": [
        "num_string = \"20\""
      ],
      "metadata": {
        "id": "F98BcjgeZxEx"
      },
      "execution_count": null,
      "outputs": []
    },
    {
      "cell_type": "code",
      "source": [
        "num = 20"
      ],
      "metadata": {
        "id": "aHqd-M30Z5xJ"
      },
      "execution_count": null,
      "outputs": []
    },
    {
      "cell_type": "code",
      "source": [
        "num_string == num"
      ],
      "metadata": {
        "colab": {
          "base_uri": "https://localhost:8080/"
        },
        "id": "MTUdGqiMZ9RB",
        "outputId": "62307dbd-541d-4799-fab2-b40c56fdd137"
      },
      "execution_count": null,
      "outputs": [
        {
          "output_type": "execute_result",
          "data": {
            "text/plain": [
              "False"
            ]
          },
          "metadata": {},
          "execution_count": 8
        }
      ]
    },
    {
      "cell_type": "code",
      "source": [
        "num/2"
      ],
      "metadata": {
        "colab": {
          "base_uri": "https://localhost:8080/"
        },
        "id": "ycP82GXiaBRg",
        "outputId": "add9631f-cf81-4aba-ee12-5c667232cf5c"
      },
      "execution_count": null,
      "outputs": [
        {
          "output_type": "execute_result",
          "data": {
            "text/plain": [
              "10.0"
            ]
          },
          "metadata": {},
          "execution_count": 9
        }
      ]
    },
    {
      "cell_type": "code",
      "source": [
        "num + 10"
      ],
      "metadata": {
        "colab": {
          "base_uri": "https://localhost:8080/"
        },
        "id": "SVS6w2YfaMKR",
        "outputId": "a28e6c6e-064a-4713-bf2f-61e1792b3784"
      },
      "execution_count": null,
      "outputs": [
        {
          "output_type": "execute_result",
          "data": {
            "text/plain": [
              "30"
            ]
          },
          "metadata": {},
          "execution_count": 10
        }
      ]
    },
    {
      "cell_type": "markdown",
      "source": [
        "O seguinte comando resultará em erro"
      ],
      "metadata": {
        "id": "5l702ED6aoAT"
      }
    },
    {
      "cell_type": "code",
      "source": [
        "num_string/2"
      ],
      "metadata": {
        "colab": {
          "base_uri": "https://localhost:8080/",
          "height": 170
        },
        "id": "FZUPYRYgaNNR",
        "outputId": "963e87d4-ffdb-45be-b969-c18392ddb0af"
      },
      "execution_count": null,
      "outputs": [
        {
          "output_type": "error",
          "ename": "TypeError",
          "evalue": "ignored",
          "traceback": [
            "\u001b[0;31m---------------------------------------------------------------------------\u001b[0m",
            "\u001b[0;31mTypeError\u001b[0m                                 Traceback (most recent call last)",
            "\u001b[0;32m<ipython-input-11-2c483647eb77>\u001b[0m in \u001b[0;36m<module>\u001b[0;34m\u001b[0m\n\u001b[0;32m----> 1\u001b[0;31m \u001b[0mnum_string\u001b[0m\u001b[0;34m/\u001b[0m\u001b[0;36m2\u001b[0m\u001b[0;34m\u001b[0m\u001b[0;34m\u001b[0m\u001b[0m\n\u001b[0m",
            "\u001b[0;31mTypeError\u001b[0m: unsupported operand type(s) for /: 'str' and 'int'"
          ]
        }
      ]
    },
    {
      "cell_type": "markdown",
      "source": [
        "O seguinte comando resultará em erro"
      ],
      "metadata": {
        "id": "uhJBjzPCarf5"
      }
    },
    {
      "cell_type": "code",
      "source": [
        "num_string + 5"
      ],
      "metadata": {
        "colab": {
          "base_uri": "https://localhost:8080/",
          "height": 170
        },
        "id": "R5nCBNG4aPF4",
        "outputId": "ad9c067e-2afd-4d72-89f2-144868c91026"
      },
      "execution_count": null,
      "outputs": [
        {
          "output_type": "error",
          "ename": "TypeError",
          "evalue": "ignored",
          "traceback": [
            "\u001b[0;31m---------------------------------------------------------------------------\u001b[0m",
            "\u001b[0;31mTypeError\u001b[0m                                 Traceback (most recent call last)",
            "\u001b[0;32m<ipython-input-12-ac2ad04294be>\u001b[0m in \u001b[0;36m<module>\u001b[0;34m\u001b[0m\n\u001b[0;32m----> 1\u001b[0;31m \u001b[0mnum_string\u001b[0m \u001b[0;34m+\u001b[0m \u001b[0;36m5\u001b[0m\u001b[0;34m\u001b[0m\u001b[0;34m\u001b[0m\u001b[0m\n\u001b[0m",
            "\u001b[0;31mTypeError\u001b[0m: can only concatenate str (not \"int\") to str"
          ]
        }
      ]
    },
    {
      "cell_type": "code",
      "source": [
        "num_string + '5'"
      ],
      "metadata": {
        "colab": {
          "base_uri": "https://localhost:8080/",
          "height": 35
        },
        "id": "gd8bne2HaRbQ",
        "outputId": "0a838d09-195a-44b8-f623-4b069ec396d8"
      },
      "execution_count": null,
      "outputs": [
        {
          "output_type": "execute_result",
          "data": {
            "text/plain": [
              "'205'"
            ],
            "application/vnd.google.colaboratory.intrinsic+json": {
              "type": "string"
            }
          },
          "metadata": {},
          "execution_count": 13
        }
      ]
    },
    {
      "cell_type": "markdown",
      "source": [
        "Utilizando float como exemplo"
      ],
      "metadata": {
        "id": "YnskgU-EaiCh"
      }
    },
    {
      "cell_type": "code",
      "source": [
        "pi = 3.14"
      ],
      "metadata": {
        "id": "qX62AHRWayxp"
      },
      "execution_count": null,
      "outputs": []
    },
    {
      "cell_type": "code",
      "source": [
        "pi_str = '3.14'"
      ],
      "metadata": {
        "id": "ZhtiHECPa34w"
      },
      "execution_count": null,
      "outputs": []
    },
    {
      "cell_type": "code",
      "source": [
        "pi == pi_str"
      ],
      "metadata": {
        "colab": {
          "base_uri": "https://localhost:8080/"
        },
        "id": "xIglM6PRa5Q_",
        "outputId": "28422f71-0450-4c82-bc50-d8b520dce970"
      },
      "execution_count": null,
      "outputs": [
        {
          "output_type": "execute_result",
          "data": {
            "text/plain": [
              "False"
            ]
          },
          "metadata": {},
          "execution_count": 16
        }
      ]
    },
    {
      "cell_type": "code",
      "source": [
        "type(pi)"
      ],
      "metadata": {
        "colab": {
          "base_uri": "https://localhost:8080/"
        },
        "id": "siwNT0Qta7h4",
        "outputId": "5ae99fcd-01f2-4ccb-8425-a1c65221c092"
      },
      "execution_count": null,
      "outputs": [
        {
          "output_type": "execute_result",
          "data": {
            "text/plain": [
              "float"
            ]
          },
          "metadata": {},
          "execution_count": 17
        }
      ]
    },
    {
      "cell_type": "code",
      "source": [
        "type(pi_str)"
      ],
      "metadata": {
        "colab": {
          "base_uri": "https://localhost:8080/"
        },
        "id": "1y-Q1fzhbAla",
        "outputId": "5b6f3c76-e6b6-471c-b2b4-61229f1a585c"
      },
      "execution_count": null,
      "outputs": [
        {
          "output_type": "execute_result",
          "data": {
            "text/plain": [
              "str"
            ]
          },
          "metadata": {},
          "execution_count": 18
        }
      ]
    },
    {
      "cell_type": "markdown",
      "source": [
        "## 4.2. Operações de indexação (indexing) e fatiamento (slicing)"
      ],
      "metadata": {
        "id": "oPp6XW3sbCqS"
      }
    },
    {
      "cell_type": "markdown",
      "source": [
        "Suponha que você viu a seguinte manchete em um site de notícias:"
      ],
      "metadata": {
        "id": "l8dXnelob85q"
      }
    },
    {
      "cell_type": "code",
      "source": [
        "manchete = \"Itaú BBA corta preço-alvo da JBS (JBSS3) e recomenda compra de Vittia (VITT3); Marcopolo (POMO4) é top pick do Bradesco BBI\""
      ],
      "metadata": {
        "id": "mq-inqQpbbUx"
      },
      "execution_count": null,
      "outputs": []
    },
    {
      "cell_type": "code",
      "source": [
        "type(manchete)"
      ],
      "metadata": {
        "colab": {
          "base_uri": "https://localhost:8080/"
        },
        "id": "gAdFYceOb4Uh",
        "outputId": "907b559b-c9cc-4915-a2d4-2cff59cd5127"
      },
      "execution_count": null,
      "outputs": [
        {
          "output_type": "execute_result",
          "data": {
            "text/plain": [
              "str"
            ]
          },
          "metadata": {},
          "execution_count": 2
        }
      ]
    },
    {
      "cell_type": "code",
      "source": [
        "print(manchete)"
      ],
      "metadata": {
        "colab": {
          "base_uri": "https://localhost:8080/"
        },
        "id": "x8_TPZe3b_ZS",
        "outputId": "ed8be652-53dc-4f95-d0cc-8ea9860b5b72"
      },
      "execution_count": null,
      "outputs": [
        {
          "output_type": "stream",
          "name": "stdout",
          "text": [
            "Itaú BBA corta preço-alvo da JBS (JBSS3) e recomenda compra de Vittia (VITT3); Marcopolo (POMO4) é top pick do Bradesco BBI\n"
          ]
        }
      ]
    },
    {
      "cell_type": "code",
      "source": [
        "manchete"
      ],
      "metadata": {
        "colab": {
          "base_uri": "https://localhost:8080/",
          "height": 35
        },
        "id": "dxMmYyHdcFmx",
        "outputId": "291604b4-2623-43e5-b52a-e1eb5dbf30a6"
      },
      "execution_count": null,
      "outputs": [
        {
          "output_type": "execute_result",
          "data": {
            "text/plain": [
              "'Itaú BBA corta preço-alvo da JBS (JBSS3) e recomenda compra de Vittia (VITT3); Marcopolo (POMO4) é top pick do Bradesco BBI'"
            ],
            "application/vnd.google.colaboratory.intrinsic+json": {
              "type": "string"
            }
          },
          "metadata": {},
          "execution_count": 4
        }
      ]
    },
    {
      "cell_type": "code",
      "source": [
        "len(manchete)"
      ],
      "metadata": {
        "colab": {
          "base_uri": "https://localhost:8080/"
        },
        "id": "hzPIV7cycHxh",
        "outputId": "c1320ebc-6870-49d9-9960-5dccf785aaff"
      },
      "execution_count": null,
      "outputs": [
        {
          "output_type": "execute_result",
          "data": {
            "text/plain": [
              "123"
            ]
          },
          "metadata": {},
          "execution_count": 5
        }
      ]
    },
    {
      "cell_type": "markdown",
      "source": [
        "Agora vamos entrar nas operações de indexação. Essas operações são realizadas através do uso de colchetes: [ ]"
      ],
      "metadata": {
        "id": "iQDG6eLncXwg"
      }
    },
    {
      "cell_type": "code",
      "source": [
        "manchete[0]"
      ],
      "metadata": {
        "colab": {
          "base_uri": "https://localhost:8080/",
          "height": 35
        },
        "id": "feY_g4sKc0DT",
        "outputId": "1e7814a5-fd71-44b8-a80d-e1045c1a1390"
      },
      "execution_count": null,
      "outputs": [
        {
          "output_type": "execute_result",
          "data": {
            "text/plain": [
              "'I'"
            ],
            "application/vnd.google.colaboratory.intrinsic+json": {
              "type": "string"
            }
          },
          "metadata": {},
          "execution_count": 6
        }
      ]
    },
    {
      "cell_type": "code",
      "source": [
        "manchete[1]"
      ],
      "metadata": {
        "colab": {
          "base_uri": "https://localhost:8080/",
          "height": 35
        },
        "id": "U7ULwtL8dDH4",
        "outputId": "c2ed3572-5948-4a1a-ad1d-2560e4e5d727"
      },
      "execution_count": null,
      "outputs": [
        {
          "output_type": "execute_result",
          "data": {
            "text/plain": [
              "'t'"
            ],
            "application/vnd.google.colaboratory.intrinsic+json": {
              "type": "string"
            }
          },
          "metadata": {},
          "execution_count": 7
        }
      ]
    },
    {
      "cell_type": "code",
      "source": [
        "manchete[5]"
      ],
      "metadata": {
        "colab": {
          "base_uri": "https://localhost:8080/",
          "height": 35
        },
        "id": "6SbNztItdFOY",
        "outputId": "7e3546ac-4782-4857-a08b-f1ceaf5bad23"
      },
      "execution_count": null,
      "outputs": [
        {
          "output_type": "execute_result",
          "data": {
            "text/plain": [
              "'B'"
            ],
            "application/vnd.google.colaboratory.intrinsic+json": {
              "type": "string"
            }
          },
          "metadata": {},
          "execution_count": 8
        }
      ]
    },
    {
      "cell_type": "code",
      "source": [
        "manchete[122]"
      ],
      "metadata": {
        "colab": {
          "base_uri": "https://localhost:8080/",
          "height": 35
        },
        "id": "WghNl_hQdKCZ",
        "outputId": "46ae7f8f-33c2-4164-9a92-92d39c25e5c6"
      },
      "execution_count": null,
      "outputs": [
        {
          "output_type": "execute_result",
          "data": {
            "text/plain": [
              "'I'"
            ],
            "application/vnd.google.colaboratory.intrinsic+json": {
              "type": "string"
            }
          },
          "metadata": {},
          "execution_count": 9
        }
      ]
    },
    {
      "cell_type": "markdown",
      "source": [
        "O seguinte comando resultará em erro"
      ],
      "metadata": {
        "id": "Mo0j8dsqdL-A"
      }
    },
    {
      "cell_type": "code",
      "source": [
        "manchete[123]"
      ],
      "metadata": {
        "colab": {
          "base_uri": "https://localhost:8080/",
          "height": 170
        },
        "id": "in7PyLuodV3g",
        "outputId": "17003c8e-36a2-4367-cb90-1a8c9897c5c9"
      },
      "execution_count": null,
      "outputs": [
        {
          "output_type": "error",
          "ename": "IndexError",
          "evalue": "ignored",
          "traceback": [
            "\u001b[0;31m---------------------------------------------------------------------------\u001b[0m",
            "\u001b[0;31mIndexError\u001b[0m                                Traceback (most recent call last)",
            "\u001b[0;32m<ipython-input-10-0979572162c7>\u001b[0m in \u001b[0;36m<module>\u001b[0;34m\u001b[0m\n\u001b[0;32m----> 1\u001b[0;31m \u001b[0mmanchete\u001b[0m\u001b[0;34m[\u001b[0m\u001b[0;36m123\u001b[0m\u001b[0;34m]\u001b[0m\u001b[0;34m\u001b[0m\u001b[0;34m\u001b[0m\u001b[0m\n\u001b[0m",
            "\u001b[0;31mIndexError\u001b[0m: string index out of range"
          ]
        }
      ]
    },
    {
      "cell_type": "markdown",
      "source": [
        "Também é possível específicar um começo e um fim nas nossas operações de filtro (**slicing**)"
      ],
      "metadata": {
        "id": "MC-L_mf9dcG6"
      }
    },
    {
      "cell_type": "markdown",
      "source": [
        "Vamos extrair Itaú"
      ],
      "metadata": {
        "id": "gl8_hEdAd1pM"
      }
    },
    {
      "cell_type": "code",
      "source": [
        "manchete[0:4]"
      ],
      "metadata": {
        "colab": {
          "base_uri": "https://localhost:8080/",
          "height": 35
        },
        "id": "5IcLEAqBdn2I",
        "outputId": "e964af82-7efb-4a99-b9f8-e141b57db4ee"
      },
      "execution_count": null,
      "outputs": [
        {
          "output_type": "execute_result",
          "data": {
            "text/plain": [
              "'Itaú'"
            ],
            "application/vnd.google.colaboratory.intrinsic+json": {
              "type": "string"
            }
          },
          "metadata": {},
          "execution_count": 11
        }
      ]
    },
    {
      "cell_type": "code",
      "source": [
        "manchete[0:3]"
      ],
      "metadata": {
        "colab": {
          "base_uri": "https://localhost:8080/",
          "height": 35
        },
        "id": "7mDy1LT6d1GI",
        "outputId": "275c4a72-eab2-49c2-f272-3295109db55f"
      },
      "execution_count": null,
      "outputs": [
        {
          "output_type": "execute_result",
          "data": {
            "text/plain": [
              "'Ita'"
            ],
            "application/vnd.google.colaboratory.intrinsic+json": {
              "type": "string"
            }
          },
          "metadata": {},
          "execution_count": 12
        }
      ]
    },
    {
      "cell_type": "markdown",
      "source": [
        "Retorne o ticker JBSS3"
      ],
      "metadata": {
        "id": "woQuV340d7kK"
      }
    },
    {
      "cell_type": "code",
      "source": [
        "manchete[34:39]"
      ],
      "metadata": {
        "colab": {
          "base_uri": "https://localhost:8080/",
          "height": 35
        },
        "id": "UpkXq8gUeqAp",
        "outputId": "9d748009-c7ad-41a0-a431-7c2658b351cb"
      },
      "execution_count": null,
      "outputs": [
        {
          "output_type": "execute_result",
          "data": {
            "text/plain": [
              "'JBSS3'"
            ],
            "application/vnd.google.colaboratory.intrinsic+json": {
              "type": "string"
            }
          },
          "metadata": {},
          "execution_count": 13
        }
      ]
    },
    {
      "cell_type": "markdown",
      "source": [
        "Manipulações com as strings"
      ],
      "metadata": {
        "id": "gfnIwQLcesGP"
      }
    },
    {
      "cell_type": "markdown",
      "source": [
        "Do início até o caractere 5"
      ],
      "metadata": {
        "id": "602HolNMfBJY"
      }
    },
    {
      "cell_type": "code",
      "source": [
        "manchete[:5]"
      ],
      "metadata": {
        "colab": {
          "base_uri": "https://localhost:8080/",
          "height": 35
        },
        "id": "HIepLf5ZfGcs",
        "outputId": "6ade4041-a461-4424-803e-42e87844ad54"
      },
      "execution_count": null,
      "outputs": [
        {
          "output_type": "execute_result",
          "data": {
            "text/plain": [
              "'Itaú '"
            ],
            "application/vnd.google.colaboratory.intrinsic+json": {
              "type": "string"
            }
          },
          "metadata": {},
          "execution_count": 14
        }
      ]
    },
    {
      "cell_type": "code",
      "source": [
        "manchete[:30]"
      ],
      "metadata": {
        "colab": {
          "base_uri": "https://localhost:8080/",
          "height": 35
        },
        "id": "XvNGUDvLfJEa",
        "outputId": "c80c4924-d7f6-4dbe-8b9f-26bdd93098e3"
      },
      "execution_count": null,
      "outputs": [
        {
          "output_type": "execute_result",
          "data": {
            "text/plain": [
              "'Itaú BBA corta preço-alvo da J'"
            ],
            "application/vnd.google.colaboratory.intrinsic+json": {
              "type": "string"
            }
          },
          "metadata": {},
          "execution_count": 15
        }
      ]
    },
    {
      "cell_type": "markdown",
      "source": [
        "Do caractere 5 até o fim"
      ],
      "metadata": {
        "id": "lwbU7aEXfNNg"
      }
    },
    {
      "cell_type": "code",
      "source": [
        "manchete[5:]"
      ],
      "metadata": {
        "colab": {
          "base_uri": "https://localhost:8080/",
          "height": 35
        },
        "id": "phKkKvROfRvh",
        "outputId": "c86fa680-ce5f-4a45-8a07-3b829b12743b"
      },
      "execution_count": null,
      "outputs": [
        {
          "output_type": "execute_result",
          "data": {
            "text/plain": [
              "'BBA corta preço-alvo da JBS (JBSS3) e recomenda compra de Vittia (VITT3); Marcopolo (POMO4) é top pick do Bradesco BBI'"
            ],
            "application/vnd.google.colaboratory.intrinsic+json": {
              "type": "string"
            }
          },
          "metadata": {},
          "execution_count": 16
        }
      ]
    },
    {
      "cell_type": "code",
      "source": [
        "manchete[8:]"
      ],
      "metadata": {
        "colab": {
          "base_uri": "https://localhost:8080/",
          "height": 35
        },
        "id": "MRbOuXMTfXv4",
        "outputId": "bc91dd42-f499-4127-b83f-37249a7c3a80"
      },
      "execution_count": null,
      "outputs": [
        {
          "output_type": "execute_result",
          "data": {
            "text/plain": [
              "' corta preço-alvo da JBS (JBSS3) e recomenda compra de Vittia (VITT3); Marcopolo (POMO4) é top pick do Bradesco BBI'"
            ],
            "application/vnd.google.colaboratory.intrinsic+json": {
              "type": "string"
            }
          },
          "metadata": {},
          "execution_count": 17
        }
      ]
    },
    {
      "cell_type": "code",
      "source": [
        "'BTG' + manchete[8:]"
      ],
      "metadata": {
        "colab": {
          "base_uri": "https://localhost:8080/",
          "height": 35
        },
        "id": "l9MeKxNtfh8p",
        "outputId": "dfbab871-29e1-46fa-b2e5-7c65182fa4fb"
      },
      "execution_count": null,
      "outputs": [
        {
          "output_type": "execute_result",
          "data": {
            "text/plain": [
              "'BTG corta preço-alvo da JBS (JBSS3) e recomenda compra de Vittia (VITT3); Marcopolo (POMO4) é top pick do Bradesco BBI'"
            ],
            "application/vnd.google.colaboratory.intrinsic+json": {
              "type": "string"
            }
          },
          "metadata": {},
          "execution_count": 18
        }
      ]
    },
    {
      "cell_type": "code",
      "source": [
        "manchete[:]"
      ],
      "metadata": {
        "colab": {
          "base_uri": "https://localhost:8080/",
          "height": 35
        },
        "id": "p3dLIg_WfvYF",
        "outputId": "78d68903-f312-4aa6-8679-0a7a363868f6"
      },
      "execution_count": null,
      "outputs": [
        {
          "output_type": "execute_result",
          "data": {
            "text/plain": [
              "'Itaú BBA corta preço-alvo da JBS (JBSS3) e recomenda compra de Vittia (VITT3); Marcopolo (POMO4) é top pick do Bradesco BBI'"
            ],
            "application/vnd.google.colaboratory.intrinsic+json": {
              "type": "string"
            }
          },
          "metadata": {},
          "execution_count": 19
        }
      ]
    },
    {
      "cell_type": "markdown",
      "source": [
        "Também conseguimos observar as strings partindo do fim (de trás pra frente)"
      ],
      "metadata": {
        "id": "tPMdmy1pfrNo"
      }
    },
    {
      "cell_type": "code",
      "source": [
        "manchete[-1]"
      ],
      "metadata": {
        "colab": {
          "base_uri": "https://localhost:8080/",
          "height": 35
        },
        "id": "dxWK9eAFgBBt",
        "outputId": "d22d75a8-5f6e-403f-b814-e0998e6ed084"
      },
      "execution_count": null,
      "outputs": [
        {
          "output_type": "execute_result",
          "data": {
            "text/plain": [
              "'I'"
            ],
            "application/vnd.google.colaboratory.intrinsic+json": {
              "type": "string"
            }
          },
          "metadata": {},
          "execution_count": 20
        }
      ]
    },
    {
      "cell_type": "code",
      "source": [
        "manchete[-2]"
      ],
      "metadata": {
        "colab": {
          "base_uri": "https://localhost:8080/",
          "height": 35
        },
        "id": "Q6cAIRCEgHSQ",
        "outputId": "ae13d19d-015f-4e04-e5c7-1d5684c8815c"
      },
      "execution_count": null,
      "outputs": [
        {
          "output_type": "execute_result",
          "data": {
            "text/plain": [
              "'B'"
            ],
            "application/vnd.google.colaboratory.intrinsic+json": {
              "type": "string"
            }
          },
          "metadata": {},
          "execution_count": 21
        }
      ]
    },
    {
      "cell_type": "markdown",
      "source": [
        "A operação de indexação (e também de slicing) também pode começar 'de trás pra frente'.\n",
        "\n",
        "Basta utilizar os índices negativos."
      ],
      "metadata": {
        "id": "DfWa0zj3gMhP"
      }
    },
    {
      "cell_type": "code",
      "source": [
        "manchete[:-1]"
      ],
      "metadata": {
        "colab": {
          "base_uri": "https://localhost:8080/",
          "height": 35
        },
        "id": "uKMoiTsQgcjA",
        "outputId": "0801f79e-02c9-40ae-8819-ba233a06d0f6"
      },
      "execution_count": null,
      "outputs": [
        {
          "output_type": "execute_result",
          "data": {
            "text/plain": [
              "'Itaú BBA corta preço-alvo da JBS (JBSS3) e recomenda compra de Vittia (VITT3); Marcopolo (POMO4) é top pick do Bradesco BB'"
            ],
            "application/vnd.google.colaboratory.intrinsic+json": {
              "type": "string"
            }
          },
          "metadata": {},
          "execution_count": 22
        }
      ]
    },
    {
      "cell_type": "code",
      "source": [
        "manchete[0:-1]"
      ],
      "metadata": {
        "colab": {
          "base_uri": "https://localhost:8080/",
          "height": 35
        },
        "id": "B6ovziQCgk7A",
        "outputId": "40962ae1-82a6-478b-8216-d424ab73d8f6"
      },
      "execution_count": null,
      "outputs": [
        {
          "output_type": "execute_result",
          "data": {
            "text/plain": [
              "'Itaú BBA corta preço-alvo da JBS (JBSS3) e recomenda compra de Vittia (VITT3); Marcopolo (POMO4) é top pick do Bradesco BB'"
            ],
            "application/vnd.google.colaboratory.intrinsic+json": {
              "type": "string"
            }
          },
          "metadata": {},
          "execution_count": 23
        }
      ]
    },
    {
      "cell_type": "code",
      "source": [
        "manchete[0:-8]"
      ],
      "metadata": {
        "colab": {
          "base_uri": "https://localhost:8080/",
          "height": 35
        },
        "id": "gUJaQXNqgrAh",
        "outputId": "c7390050-fb3f-4f48-a591-59417c5ae7e0"
      },
      "execution_count": null,
      "outputs": [
        {
          "output_type": "execute_result",
          "data": {
            "text/plain": [
              "'Itaú BBA corta preço-alvo da JBS (JBSS3) e recomenda compra de Vittia (VITT3); Marcopolo (POMO4) é top pick do Brad'"
            ],
            "application/vnd.google.colaboratory.intrinsic+json": {
              "type": "string"
            }
          },
          "metadata": {},
          "execution_count": 24
        }
      ]
    },
    {
      "cell_type": "code",
      "source": [
        "manchete[0:-12]"
      ],
      "metadata": {
        "colab": {
          "base_uri": "https://localhost:8080/",
          "height": 35
        },
        "id": "sSzQld8wgxBQ",
        "outputId": "47087787-242e-4dac-f1c8-1dad88fd4ac0"
      },
      "execution_count": null,
      "outputs": [
        {
          "output_type": "execute_result",
          "data": {
            "text/plain": [
              "'Itaú BBA corta preço-alvo da JBS (JBSS3) e recomenda compra de Vittia (VITT3); Marcopolo (POMO4) é top pick do '"
            ],
            "application/vnd.google.colaboratory.intrinsic+json": {
              "type": "string"
            }
          },
          "metadata": {},
          "execution_count": 25
        }
      ]
    },
    {
      "cell_type": "code",
      "source": [
        "manchete[9:-12]"
      ],
      "metadata": {
        "colab": {
          "base_uri": "https://localhost:8080/",
          "height": 35
        },
        "id": "XPQIOxMDg1GC",
        "outputId": "6428c863-0cfa-4f39-94d9-02505ecae513"
      },
      "execution_count": null,
      "outputs": [
        {
          "output_type": "execute_result",
          "data": {
            "text/plain": [
              "'corta preço-alvo da JBS (JBSS3) e recomenda compra de Vittia (VITT3); Marcopolo (POMO4) é top pick do '"
            ],
            "application/vnd.google.colaboratory.intrinsic+json": {
              "type": "string"
            }
          },
          "metadata": {},
          "execution_count": 26
        }
      ]
    },
    {
      "cell_type": "markdown",
      "source": [
        "Mais um sinal de \":\"\n",
        "\n",
        "Vamos utilizá-lo para especificar de quantos em quantos caracteres devemos percorrer o intervalo."
      ],
      "metadata": {
        "id": "J3cuwFIsg5nE"
      }
    },
    {
      "cell_type": "code",
      "source": [
        "manchete[0:-12:1]"
      ],
      "metadata": {
        "colab": {
          "base_uri": "https://localhost:8080/",
          "height": 35
        },
        "id": "iXx7gGemioTP",
        "outputId": "e47ec5f8-3709-46d4-f101-f44c8ba44c61"
      },
      "execution_count": null,
      "outputs": [
        {
          "output_type": "execute_result",
          "data": {
            "text/plain": [
              "'Itaú BBA corta preço-alvo da JBS (JBSS3) e recomenda compra de Vittia (VITT3); Marcopolo (POMO4) é top pick do '"
            ],
            "application/vnd.google.colaboratory.intrinsic+json": {
              "type": "string"
            }
          },
          "metadata": {},
          "execution_count": 27
        }
      ]
    },
    {
      "cell_type": "code",
      "source": [
        "manchete[0:-12:2]"
      ],
      "metadata": {
        "colab": {
          "base_uri": "https://localhost:8080/",
          "height": 35
        },
        "id": "wirDg8lPiwdp",
        "outputId": "c5afa703-57eb-4755-a471-7094e2d61243"
      },
      "execution_count": null,
      "outputs": [
        {
          "output_type": "execute_result",
          "data": {
            "text/plain": [
              "'Ia B ot rç-lod B JS3  eoed opad ita(IT) acpl PM4  o ikd '"
            ],
            "application/vnd.google.colaboratory.intrinsic+json": {
              "type": "string"
            }
          },
          "metadata": {},
          "execution_count": 28
        }
      ]
    },
    {
      "cell_type": "code",
      "source": [
        "manchete[0:-12:3]"
      ],
      "metadata": {
        "colab": {
          "base_uri": "https://localhost:8080/",
          "height": 35
        },
        "id": "eARQqA1wi1n4",
        "outputId": "a03a4798-0f16-4c1c-b765-cd2598f4ccc6"
      },
      "execution_count": null,
      "outputs": [
        {
          "output_type": "execute_result",
          "data": {
            "text/plain": [
              "'IúBctpçaoaB(S) ceaordVt I3 rpoPO t cd'"
            ],
            "application/vnd.google.colaboratory.intrinsic+json": {
              "type": "string"
            }
          },
          "metadata": {},
          "execution_count": 29
        }
      ]
    },
    {
      "cell_type": "code",
      "source": [
        "manchete[::1]"
      ],
      "metadata": {
        "colab": {
          "base_uri": "https://localhost:8080/",
          "height": 35
        },
        "id": "0u0zbu_Si35Z",
        "outputId": "644d61cd-3d5f-47c4-ddb2-6883a0ae459f"
      },
      "execution_count": null,
      "outputs": [
        {
          "output_type": "execute_result",
          "data": {
            "text/plain": [
              "'Itaú BBA corta preço-alvo da JBS (JBSS3) e recomenda compra de Vittia (VITT3); Marcopolo (POMO4) é top pick do Bradesco BBI'"
            ],
            "application/vnd.google.colaboratory.intrinsic+json": {
              "type": "string"
            }
          },
          "metadata": {},
          "execution_count": 30
        }
      ]
    },
    {
      "cell_type": "code",
      "source": [
        "manchete[::2]"
      ],
      "metadata": {
        "colab": {
          "base_uri": "https://localhost:8080/",
          "height": 35
        },
        "id": "jfgMXqKZi8yP",
        "outputId": "1b93f0c1-1ed1-40b7-eab2-74341328053c"
      },
      "execution_count": null,
      "outputs": [
        {
          "output_type": "execute_result",
          "data": {
            "text/plain": [
              "'Ia B ot rç-lod B JS3  eoed opad ita(IT) acpl PM4  o ikd rdsoBI'"
            ],
            "application/vnd.google.colaboratory.intrinsic+json": {
              "type": "string"
            }
          },
          "metadata": {},
          "execution_count": 31
        }
      ]
    },
    {
      "cell_type": "code",
      "source": [
        "manchete[::-1]"
      ],
      "metadata": {
        "colab": {
          "base_uri": "https://localhost:8080/",
          "height": 35
        },
        "id": "DjmoHkhrjA-U",
        "outputId": "f27ba399-446c-44dd-d23e-50f7a033aafa"
      },
      "execution_count": null,
      "outputs": [
        {
          "output_type": "execute_result",
          "data": {
            "text/plain": [
              "'IBB ocsedarB od kcip pot é )4OMOP( olopocraM ;)3TTIV( aittiV ed arpmoc adnemocer e )3SSBJ( SBJ ad ovla-oçerp atroc ABB úatI'"
            ],
            "application/vnd.google.colaboratory.intrinsic+json": {
              "type": "string"
            }
          },
          "metadata": {},
          "execution_count": 32
        }
      ]
    },
    {
      "cell_type": "markdown",
      "source": [
        "Resumindo as operações de slicing\n",
        "\n",
        "string[a:b:c]\n",
        "\n",
        "Uma forma de definirmos as notações string[a:b:c] seria algo como: Execute um comando de fatiamento da string em intervalos de ‘c’, a partir de ‘a’ (incluso) até ‘b’ (não incluso). Se ‘c’ for negativo, contamos de trás para frente. Quando ‘c’ não está presente no código, o padrão é 1 (i.e., fatiar de 1 em 1 caractere). Se ‘a’ não está presente, então você começa o mais distante possível na direção que você está contando (i.e., se ‘c’ é positivo, começa no primeiro caractere. Se ‘c’ é negativo, começa no último caractere). Se ‘b’ não está presente, então você termina o mais distante possível na direção que está contando (i.e., se ‘c’ é positivo, termina no último caractere. Se ‘c’ é negativo, termina no primeiro caractere)."
      ],
      "metadata": {
        "id": "CGiDY7PujIc_"
      }
    },
    {
      "cell_type": "markdown",
      "source": [
        "## 4.3. Propriedades das strings"
      ],
      "metadata": {
        "id": "dObOclqHjWRd"
      }
    },
    {
      "cell_type": "markdown",
      "source": [
        "* Imutabilidade\n",
        "* Adição\n",
        "* Modificação de upper e lower case"
      ],
      "metadata": {
        "id": "u8Odxaqu3Dox"
      }
    },
    {
      "cell_type": "code",
      "source": [
        "manchete"
      ],
      "metadata": {
        "colab": {
          "base_uri": "https://localhost:8080/",
          "height": 35
        },
        "id": "ztebwbcm3KGG",
        "outputId": "3eb51a16-a865-43b1-9e86-18f0a64a8cbc"
      },
      "execution_count": null,
      "outputs": [
        {
          "output_type": "execute_result",
          "data": {
            "text/plain": [
              "'Itaú BBA corta preço-alvo da JBS (JBSS3) e recomenda compra de Vittia (VITT3); Marcopolo (POMO4) é top pick do Bradesco BBI'"
            ],
            "application/vnd.google.colaboratory.intrinsic+json": {
              "type": "string"
            }
          },
          "metadata": {},
          "execution_count": 33
        }
      ]
    },
    {
      "cell_type": "code",
      "source": [
        "manchete[0]"
      ],
      "metadata": {
        "colab": {
          "base_uri": "https://localhost:8080/",
          "height": 35
        },
        "id": "IPX7tbOg3N7g",
        "outputId": "916e3817-4224-4ca3-d28f-42dd9ffd4eb0"
      },
      "execution_count": null,
      "outputs": [
        {
          "output_type": "execute_result",
          "data": {
            "text/plain": [
              "'I'"
            ],
            "application/vnd.google.colaboratory.intrinsic+json": {
              "type": "string"
            }
          },
          "metadata": {},
          "execution_count": 34
        }
      ]
    },
    {
      "cell_type": "code",
      "source": [
        "manchete[10:15]"
      ],
      "metadata": {
        "colab": {
          "base_uri": "https://localhost:8080/",
          "height": 35
        },
        "id": "f5LU93ne3QY_",
        "outputId": "424ad5b3-d481-4181-920c-c90a1818141a"
      },
      "execution_count": null,
      "outputs": [
        {
          "output_type": "execute_result",
          "data": {
            "text/plain": [
              "'orta '"
            ],
            "application/vnd.google.colaboratory.intrinsic+json": {
              "type": "string"
            }
          },
          "metadata": {},
          "execution_count": 35
        }
      ]
    },
    {
      "cell_type": "markdown",
      "source": [
        "Visualizando a propriedade da imutabilidade"
      ],
      "metadata": {
        "id": "Y7zDEWg33Rtx"
      }
    },
    {
      "cell_type": "code",
      "source": [
        "manchete[34:39]"
      ],
      "metadata": {
        "colab": {
          "base_uri": "https://localhost:8080/",
          "height": 35
        },
        "id": "SYIz3ur93VQr",
        "outputId": "b6efcad8-f780-4562-d773-462016132fe7"
      },
      "execution_count": null,
      "outputs": [
        {
          "output_type": "execute_result",
          "data": {
            "text/plain": [
              "'JBSS3'"
            ],
            "application/vnd.google.colaboratory.intrinsic+json": {
              "type": "string"
            }
          },
          "metadata": {},
          "execution_count": 36
        }
      ]
    },
    {
      "cell_type": "markdown",
      "source": [
        "O seguinte comando resultará em erro"
      ],
      "metadata": {
        "id": "YsjusOK_3eSj"
      }
    },
    {
      "cell_type": "code",
      "source": [
        "manchete[34:39] = 'WEGE3'"
      ],
      "metadata": {
        "colab": {
          "base_uri": "https://localhost:8080/",
          "height": 170
        },
        "id": "VIeirVh93bFA",
        "outputId": "98b27ab4-0c4b-4cbd-ceee-6007e2432ca5"
      },
      "execution_count": null,
      "outputs": [
        {
          "output_type": "error",
          "ename": "TypeError",
          "evalue": "ignored",
          "traceback": [
            "\u001b[0;31m---------------------------------------------------------------------------\u001b[0m",
            "\u001b[0;31mTypeError\u001b[0m                                 Traceback (most recent call last)",
            "\u001b[0;32m<ipython-input-37-018035f90406>\u001b[0m in \u001b[0;36m<module>\u001b[0;34m\u001b[0m\n\u001b[0;32m----> 1\u001b[0;31m \u001b[0mmanchete\u001b[0m\u001b[0;34m[\u001b[0m\u001b[0;36m34\u001b[0m\u001b[0;34m:\u001b[0m\u001b[0;36m39\u001b[0m\u001b[0;34m]\u001b[0m \u001b[0;34m=\u001b[0m \u001b[0;34m'WEGE3'\u001b[0m\u001b[0;34m\u001b[0m\u001b[0;34m\u001b[0m\u001b[0m\n\u001b[0m",
            "\u001b[0;31mTypeError\u001b[0m: 'str' object does not support item assignment"
          ]
        }
      ]
    },
    {
      "cell_type": "code",
      "source": [
        "manchete[9:]"
      ],
      "metadata": {
        "colab": {
          "base_uri": "https://localhost:8080/",
          "height": 35
        },
        "id": "VDW0f4Ua3dif",
        "outputId": "95201db4-d1f7-4120-f34b-0fd0bea4b418"
      },
      "execution_count": null,
      "outputs": [
        {
          "output_type": "execute_result",
          "data": {
            "text/plain": [
              "'corta preço-alvo da JBS (JBSS3) e recomenda compra de Vittia (VITT3); Marcopolo (POMO4) é top pick do Bradesco BBI'"
            ],
            "application/vnd.google.colaboratory.intrinsic+json": {
              "type": "string"
            }
          },
          "metadata": {},
          "execution_count": 39
        }
      ]
    },
    {
      "cell_type": "code",
      "source": [
        "restodafrase = manchete[9:]"
      ],
      "metadata": {
        "id": "MtC81L-v3oyf"
      },
      "execution_count": null,
      "outputs": []
    },
    {
      "cell_type": "code",
      "source": [
        "novaempresa = 'Santander'"
      ],
      "metadata": {
        "id": "yo24A67b3xP3"
      },
      "execution_count": null,
      "outputs": []
    },
    {
      "cell_type": "markdown",
      "source": [
        "Visualizando a propriedade da adição"
      ],
      "metadata": {
        "id": "H-s4Voku3z3d"
      }
    },
    {
      "cell_type": "code",
      "source": [
        "novaempresa + ' ' + restodafrase"
      ],
      "metadata": {
        "colab": {
          "base_uri": "https://localhost:8080/",
          "height": 35
        },
        "id": "BMECoNyS32bC",
        "outputId": "d5464030-a870-4609-e5ad-ce861222a335"
      },
      "execution_count": null,
      "outputs": [
        {
          "output_type": "execute_result",
          "data": {
            "text/plain": [
              "'Santander corta preço-alvo da JBS (JBSS3) e recomenda compra de Vittia (VITT3); Marcopolo (POMO4) é top pick do Bradesco BBI'"
            ],
            "application/vnd.google.colaboratory.intrinsic+json": {
              "type": "string"
            }
          },
          "metadata": {},
          "execution_count": 43
        }
      ]
    },
    {
      "cell_type": "markdown",
      "source": [
        "O seguinte comando resultará em erro"
      ],
      "metadata": {
        "id": "3P9mrytU4KBK"
      }
    },
    {
      "cell_type": "code",
      "source": [
        "restodafrase - 'JBSS3'"
      ],
      "metadata": {
        "colab": {
          "base_uri": "https://localhost:8080/",
          "height": 170
        },
        "id": "PmpKK3un34Oy",
        "outputId": "5444f791-1328-4eae-ca53-102a557031ba"
      },
      "execution_count": null,
      "outputs": [
        {
          "output_type": "error",
          "ename": "TypeError",
          "evalue": "ignored",
          "traceback": [
            "\u001b[0;31m---------------------------------------------------------------------------\u001b[0m",
            "\u001b[0;31mTypeError\u001b[0m                                 Traceback (most recent call last)",
            "\u001b[0;32m<ipython-input-44-b43d17a85b66>\u001b[0m in \u001b[0;36m<module>\u001b[0;34m\u001b[0m\n\u001b[0;32m----> 1\u001b[0;31m \u001b[0mrestodafrase\u001b[0m \u001b[0;34m-\u001b[0m \u001b[0;34m'JBSS3'\u001b[0m\u001b[0;34m\u001b[0m\u001b[0;34m\u001b[0m\u001b[0m\n\u001b[0m",
            "\u001b[0;31mTypeError\u001b[0m: unsupported operand type(s) for -: 'str' and 'str'"
          ]
        }
      ]
    },
    {
      "cell_type": "markdown",
      "source": [
        "Vamos ver agora a transformação em upper case e lower case"
      ],
      "metadata": {
        "id": "AZCmfHPf4G_G"
      }
    },
    {
      "cell_type": "code",
      "source": [
        "frase_completa = novaempresa + ' ' + restodafrase"
      ],
      "metadata": {
        "id": "pgHKaXv04XeY"
      },
      "execution_count": null,
      "outputs": []
    },
    {
      "cell_type": "code",
      "source": [
        "frase_completa.lower()"
      ],
      "metadata": {
        "colab": {
          "base_uri": "https://localhost:8080/",
          "height": 35
        },
        "id": "8e2tvMVV4eE6",
        "outputId": "c49f7a32-dffd-4943-c27d-4400706a9c60"
      },
      "execution_count": null,
      "outputs": [
        {
          "output_type": "execute_result",
          "data": {
            "text/plain": [
              "'santander corta preço-alvo da jbs (jbss3) e recomenda compra de vittia (vitt3); marcopolo (pomo4) é top pick do bradesco bbi'"
            ],
            "application/vnd.google.colaboratory.intrinsic+json": {
              "type": "string"
            }
          },
          "metadata": {},
          "execution_count": 46
        }
      ]
    },
    {
      "cell_type": "code",
      "source": [
        "frase_completa.upper()"
      ],
      "metadata": {
        "colab": {
          "base_uri": "https://localhost:8080/",
          "height": 35
        },
        "id": "iEhzRyq_4hdo",
        "outputId": "bac26768-2f9e-4ab9-8257-15fe6898126c"
      },
      "execution_count": null,
      "outputs": [
        {
          "output_type": "execute_result",
          "data": {
            "text/plain": [
              "'SANTANDER CORTA PREÇO-ALVO DA JBS (JBSS3) E RECOMENDA COMPRA DE VITTIA (VITT3); MARCOPOLO (POMO4) É TOP PICK DO BRADESCO BBI'"
            ],
            "application/vnd.google.colaboratory.intrinsic+json": {
              "type": "string"
            }
          },
          "metadata": {},
          "execution_count": 47
        }
      ]
    },
    {
      "cell_type": "markdown",
      "source": [
        "Para terminar, um operador importante: \"split\""
      ],
      "metadata": {
        "id": "QQTFYsHg4kdu"
      }
    },
    {
      "cell_type": "code",
      "source": [
        "frase_completa.split()"
      ],
      "metadata": {
        "colab": {
          "base_uri": "https://localhost:8080/"
        },
        "id": "2Fg96Hsa4rVj",
        "outputId": "2bf2b31e-fb0b-4080-905d-68eed7fd2b24"
      },
      "execution_count": null,
      "outputs": [
        {
          "output_type": "execute_result",
          "data": {
            "text/plain": [
              "['Santander',\n",
              " 'corta',\n",
              " 'preço-alvo',\n",
              " 'da',\n",
              " 'JBS',\n",
              " '(JBSS3)',\n",
              " 'e',\n",
              " 'recomenda',\n",
              " 'compra',\n",
              " 'de',\n",
              " 'Vittia',\n",
              " '(VITT3);',\n",
              " 'Marcopolo',\n",
              " '(POMO4)',\n",
              " 'é',\n",
              " 'top',\n",
              " 'pick',\n",
              " 'do',\n",
              " 'Bradesco',\n",
              " 'BBI']"
            ]
          },
          "metadata": {},
          "execution_count": 48
        }
      ]
    },
    {
      "cell_type": "code",
      "source": [
        "frase_separada = frase_completa.split()"
      ],
      "metadata": {
        "id": "gdVwUVlq4wfG"
      },
      "execution_count": null,
      "outputs": []
    },
    {
      "cell_type": "code",
      "source": [
        "frase_separada[0]"
      ],
      "metadata": {
        "colab": {
          "base_uri": "https://localhost:8080/",
          "height": 35
        },
        "id": "RYrLt67f425w",
        "outputId": "8eeade03-6377-4c69-93b7-f64793624f6d"
      },
      "execution_count": null,
      "outputs": [
        {
          "output_type": "execute_result",
          "data": {
            "text/plain": [
              "'Santander'"
            ],
            "application/vnd.google.colaboratory.intrinsic+json": {
              "type": "string"
            }
          },
          "metadata": {},
          "execution_count": 50
        }
      ]
    },
    {
      "cell_type": "code",
      "source": [
        "frase_separada[1]"
      ],
      "metadata": {
        "colab": {
          "base_uri": "https://localhost:8080/",
          "height": 35
        },
        "id": "HnjvaY6d45Bx",
        "outputId": "a2ad186a-f652-4bfb-e13b-b47c2430ba74"
      },
      "execution_count": null,
      "outputs": [
        {
          "output_type": "execute_result",
          "data": {
            "text/plain": [
              "'corta'"
            ],
            "application/vnd.google.colaboratory.intrinsic+json": {
              "type": "string"
            }
          },
          "metadata": {},
          "execution_count": 51
        }
      ]
    },
    {
      "cell_type": "code",
      "source": [
        "frase_completa"
      ],
      "metadata": {
        "colab": {
          "base_uri": "https://localhost:8080/",
          "height": 35
        },
        "id": "gFsaGeat453o",
        "outputId": "5ff72f7b-0c03-4618-abf8-4dc1eeda82b5"
      },
      "execution_count": null,
      "outputs": [
        {
          "output_type": "execute_result",
          "data": {
            "text/plain": [
              "'Santander corta preço-alvo da JBS (JBSS3) e recomenda compra de Vittia (VITT3); Marcopolo (POMO4) é top pick do Bradesco BBI'"
            ],
            "application/vnd.google.colaboratory.intrinsic+json": {
              "type": "string"
            }
          },
          "metadata": {},
          "execution_count": 52
        }
      ]
    },
    {
      "cell_type": "code",
      "source": [
        "frase_completa.split(\"(\")"
      ],
      "metadata": {
        "colab": {
          "base_uri": "https://localhost:8080/"
        },
        "id": "FA775L1J5Ch5",
        "outputId": "77757fa1-2e22-4e5b-f8fd-597d6c5d4a2a"
      },
      "execution_count": null,
      "outputs": [
        {
          "output_type": "execute_result",
          "data": {
            "text/plain": [
              "['Santander corta preço-alvo da JBS ',\n",
              " 'JBSS3) e recomenda compra de Vittia ',\n",
              " 'VITT3); Marcopolo ',\n",
              " 'POMO4) é top pick do Bradesco BBI']"
            ]
          },
          "metadata": {},
          "execution_count": 53
        }
      ]
    },
    {
      "cell_type": "code",
      "source": [
        "frase_completa.split()"
      ],
      "metadata": {
        "colab": {
          "base_uri": "https://localhost:8080/"
        },
        "id": "_HkXTAy75Jzu",
        "outputId": "721db59c-88ce-4c43-d0c3-265b66057cec"
      },
      "execution_count": null,
      "outputs": [
        {
          "output_type": "execute_result",
          "data": {
            "text/plain": [
              "['Santander',\n",
              " 'corta',\n",
              " 'preço-alvo',\n",
              " 'da',\n",
              " 'JBS',\n",
              " '(JBSS3)',\n",
              " 'e',\n",
              " 'recomenda',\n",
              " 'compra',\n",
              " 'de',\n",
              " 'Vittia',\n",
              " '(VITT3);',\n",
              " 'Marcopolo',\n",
              " '(POMO4)',\n",
              " 'é',\n",
              " 'top',\n",
              " 'pick',\n",
              " 'do',\n",
              " 'Bradesco',\n",
              " 'BBI']"
            ]
          },
          "metadata": {},
          "execution_count": 54
        }
      ]
    },
    {
      "cell_type": "code",
      "source": [
        "frase_completa.split(' ')"
      ],
      "metadata": {
        "colab": {
          "base_uri": "https://localhost:8080/"
        },
        "id": "p7MPGgU15OKQ",
        "outputId": "3f1cd339-dc0e-41df-d693-4bd8090817b2"
      },
      "execution_count": null,
      "outputs": [
        {
          "output_type": "execute_result",
          "data": {
            "text/plain": [
              "['Santander',\n",
              " 'corta',\n",
              " 'preço-alvo',\n",
              " 'da',\n",
              " 'JBS',\n",
              " '(JBSS3)',\n",
              " 'e',\n",
              " 'recomenda',\n",
              " 'compra',\n",
              " 'de',\n",
              " 'Vittia',\n",
              " '(VITT3);',\n",
              " 'Marcopolo',\n",
              " '(POMO4)',\n",
              " 'é',\n",
              " 'top',\n",
              " 'pick',\n",
              " 'do',\n",
              " 'Bradesco',\n",
              " 'BBI']"
            ]
          },
          "metadata": {},
          "execution_count": 55
        }
      ]
    },
    {
      "cell_type": "code",
      "source": [],
      "metadata": {
        "id": "OKva_7mT5biY"
      },
      "execution_count": null,
      "outputs": []
    }
  ]
}