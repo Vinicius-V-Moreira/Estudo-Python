{
  "nbformat": 4,
  "nbformat_minor": 0,
  "metadata": {
    "colab": {
      "provenance": [],
      "collapsed_sections": [
        "hc0NuwipGJei",
        "X74ByJViIwJJ",
        "c5ht0hSJOoBa"
      ],
      "include_colab_link": true
    },
    "kernelspec": {
      "name": "python3",
      "display_name": "Python 3"
    },
    "language_info": {
      "name": "python"
    }
  },
  "cells": [
    {
      "cell_type": "markdown",
      "metadata": {
        "id": "view-in-github",
        "colab_type": "text"
      },
      "source": [
        "<a href=\"https://colab.research.google.com/github/Vinicius-V-Moreira/Estudo-Python/blob/main/Introdu%C3%A7%C3%A3o%20ao%20Python%20-%20Args%20e%20Kwargs.ipynb\" target=\"_parent\"><img src=\"https://colab.research.google.com/assets/colab-badge.svg\" alt=\"Open In Colab\"/></a>"
      ]
    },
    {
      "cell_type": "markdown",
      "source": [
        "<center><img src = \"https://github.com/Trading-com-Dados/pmf/blob/main/logotipo-trading-com-dados.svg?raw=true\" width = \"200\">"
      ],
      "metadata": {
        "id": "LhC1zhTvkPk_"
      }
    },
    {
      "cell_type": "markdown",
      "source": [
        "<center><img src = \"https://github.com/Trading-com-Dados/pmf/blob/main/PMF%20002.png?raw=true\" width = \"700\">"
      ],
      "metadata": {
        "id": "2nM6YF8pimKI"
      }
    },
    {
      "cell_type": "markdown",
      "source": [
        "# **Python para Mercado Financeiro**"
      ],
      "metadata": {
        "id": "M-VdkjxzgPJz"
      }
    },
    {
      "cell_type": "markdown",
      "source": [
        "# Módulo 01 - Introdução ao Python"
      ],
      "metadata": {
        "id": "m3cIuk6ZgU_I"
      }
    },
    {
      "cell_type": "markdown",
      "source": [
        "## 17. Args & Kwargs"
      ],
      "metadata": {
        "id": "ny2VAFgmgjBB"
      }
    },
    {
      "cell_type": "markdown",
      "source": [
        "### 17.1. Args"
      ],
      "metadata": {
        "id": "hc0NuwipGJei"
      }
    },
    {
      "cell_type": "markdown",
      "source": [
        "Imagine que criamos uma função nova e especificamos a quantidade de argumentos que precisam ser passados nessa função:"
      ],
      "metadata": {
        "id": "7TBqxSk3GNYh"
      }
    },
    {
      "cell_type": "code",
      "source": [
        "sum((1,1))"
      ],
      "metadata": {
        "colab": {
          "base_uri": "https://localhost:8080/"
        },
        "id": "rcmeiDv-G8oC",
        "outputId": "56cde07f-1004-42ed-de64-c378c4cba0c3"
      },
      "execution_count": null,
      "outputs": [
        {
          "output_type": "execute_result",
          "data": {
            "text/plain": [
              "2"
            ]
          },
          "metadata": {},
          "execution_count": 2
        }
      ]
    },
    {
      "cell_type": "code",
      "source": [
        "numeros = (1,2,3,4,5)"
      ],
      "metadata": {
        "id": "x_YpLjPkHCfF"
      },
      "execution_count": null,
      "outputs": []
    },
    {
      "cell_type": "code",
      "source": [
        "sum(numeros)"
      ],
      "metadata": {
        "colab": {
          "base_uri": "https://localhost:8080/"
        },
        "id": "7nzg_uD4HPaC",
        "outputId": "9cfa0a0d-4510-46af-aeb4-34051abc0fa9"
      },
      "execution_count": null,
      "outputs": [
        {
          "output_type": "execute_result",
          "data": {
            "text/plain": [
              "15"
            ]
          },
          "metadata": {},
          "execution_count": 4
        }
      ]
    },
    {
      "cell_type": "code",
      "source": [
        "def soma_varios(a, b):\n",
        "  soma = sum((a,b))\n",
        "  return soma\n"
      ],
      "metadata": {
        "id": "n32s93GxHQYC"
      },
      "execution_count": null,
      "outputs": []
    },
    {
      "cell_type": "code",
      "source": [
        "def soma_varios(a, b, c, d, e):\n",
        "  soma = sum((a,b, c, d, e))\n",
        "  return soma\n"
      ],
      "metadata": {
        "id": "EFtJ4vBgHcmK"
      },
      "execution_count": null,
      "outputs": []
    },
    {
      "cell_type": "code",
      "source": [
        "soma_varios(1,1,1,1,1)"
      ],
      "metadata": {
        "colab": {
          "base_uri": "https://localhost:8080/"
        },
        "id": "8a-NQB7pHkIC",
        "outputId": "dfd243da-c472-4b5a-a761-ee984862366d"
      },
      "execution_count": null,
      "outputs": [
        {
          "output_type": "execute_result",
          "data": {
            "text/plain": [
              "5"
            ]
          },
          "metadata": {},
          "execution_count": 7
        }
      ]
    },
    {
      "cell_type": "markdown",
      "source": [
        "Vamos redefinir a nossa função acima, usando o operador args"
      ],
      "metadata": {
        "id": "E8Bn-v_8HmgZ"
      }
    },
    {
      "cell_type": "code",
      "source": [
        "def soma_varios(*args):\n",
        "  soma = sum(args)\n",
        "  return soma"
      ],
      "metadata": {
        "id": "ZiY0xonCHsNc"
      },
      "execution_count": null,
      "outputs": []
    },
    {
      "cell_type": "code",
      "source": [
        "soma_varios(1)"
      ],
      "metadata": {
        "colab": {
          "base_uri": "https://localhost:8080/"
        },
        "id": "mOZpI_4oHzIK",
        "outputId": "dcd97f60-4a61-4e26-8103-f95f50809185"
      },
      "execution_count": null,
      "outputs": [
        {
          "output_type": "execute_result",
          "data": {
            "text/plain": [
              "1"
            ]
          },
          "metadata": {},
          "execution_count": 9
        }
      ]
    },
    {
      "cell_type": "code",
      "source": [
        "soma_varios(9203, 233, 230, 210342)"
      ],
      "metadata": {
        "colab": {
          "base_uri": "https://localhost:8080/"
        },
        "id": "Y13qvdlhH0x6",
        "outputId": "9a6a6448-da8a-4300-84a8-f0a269a7f000"
      },
      "execution_count": null,
      "outputs": [
        {
          "output_type": "execute_result",
          "data": {
            "text/plain": [
              "220008"
            ]
          },
          "metadata": {},
          "execution_count": 10
        }
      ]
    },
    {
      "cell_type": "markdown",
      "source": [
        "Vamos modificar o nome do operador args"
      ],
      "metadata": {
        "id": "l8HY2sX7H44a"
      }
    },
    {
      "cell_type": "code",
      "source": [
        "def soma_varios(*numeros):\n",
        "  soma = sum(numeros)\n",
        "  return soma"
      ],
      "metadata": {
        "id": "kEP-QdFeITB7"
      },
      "execution_count": null,
      "outputs": []
    },
    {
      "cell_type": "code",
      "source": [
        "soma_varios(1,1,34,5,3)"
      ],
      "metadata": {
        "colab": {
          "base_uri": "https://localhost:8080/"
        },
        "id": "MFRSFbs5IaYT",
        "outputId": "28e1b200-f329-4e3c-9bbd-906b1c590d5f"
      },
      "execution_count": null,
      "outputs": [
        {
          "output_type": "execute_result",
          "data": {
            "text/plain": [
              "44"
            ]
          },
          "metadata": {},
          "execution_count": 12
        }
      ]
    },
    {
      "cell_type": "code",
      "source": [
        "def soma_varios(*numeros):\n",
        "  soma = sum(numeros)\n",
        "  print(numeros)\n",
        "  return soma"
      ],
      "metadata": {
        "id": "wusjOcyUIcgY"
      },
      "execution_count": null,
      "outputs": []
    },
    {
      "cell_type": "code",
      "source": [
        "soma_varios(4,5,6,7,8,9)"
      ],
      "metadata": {
        "colab": {
          "base_uri": "https://localhost:8080/"
        },
        "id": "tQsobf1LItrK",
        "outputId": "a706d660-0e7f-4f3b-e621-5b02cb70ff8b"
      },
      "execution_count": null,
      "outputs": [
        {
          "output_type": "stream",
          "name": "stdout",
          "text": [
            "(4, 5, 6, 7, 8, 9)\n"
          ]
        },
        {
          "output_type": "execute_result",
          "data": {
            "text/plain": [
              "39"
            ]
          },
          "metadata": {},
          "execution_count": 14
        }
      ]
    },
    {
      "cell_type": "markdown",
      "source": [
        "### 17.2. Kwargs"
      ],
      "metadata": {
        "id": "X74ByJViIwJJ"
      }
    },
    {
      "cell_type": "markdown",
      "source": [
        "Kwargs quer dizer \"keyword arguments\""
      ],
      "metadata": {
        "id": "mfBp5AC6Jh8i"
      }
    },
    {
      "cell_type": "markdown",
      "source": [
        "Na prática os Kwargs possuem uma estrutura de dicionário"
      ],
      "metadata": {
        "id": "eTn7FpPXJjaJ"
      }
    },
    {
      "cell_type": "code",
      "source": [
        "papeis = {'PETR4':25, 'VALE3': 80}"
      ],
      "metadata": {
        "id": "bpprRLtfJq6R"
      },
      "execution_count": null,
      "outputs": []
    },
    {
      "cell_type": "code",
      "source": [
        "papeis['PETR4']"
      ],
      "metadata": {
        "colab": {
          "base_uri": "https://localhost:8080/"
        },
        "id": "bYKP9mBLJufq",
        "outputId": "c95e1059-fddb-4105-96b0-aaf9ea904c0f"
      },
      "execution_count": null,
      "outputs": [
        {
          "output_type": "execute_result",
          "data": {
            "text/plain": [
              "25"
            ]
          },
          "metadata": {},
          "execution_count": 16
        }
      ]
    },
    {
      "cell_type": "code",
      "source": [
        "def compra_acoes(**kwargs):\n",
        "  print('O cliente comprou o papel', kwargs['acao'])"
      ],
      "metadata": {
        "id": "mEIpHAvBLpf6"
      },
      "execution_count": null,
      "outputs": []
    },
    {
      "cell_type": "code",
      "source": [
        "compra_acoes(acao = 'PETR4')"
      ],
      "metadata": {
        "colab": {
          "base_uri": "https://localhost:8080/"
        },
        "id": "rHgKlAdEMq7E",
        "outputId": "d9d43093-d87f-4079-db92-baa2b6470f95"
      },
      "execution_count": null,
      "outputs": [
        {
          "output_type": "stream",
          "name": "stdout",
          "text": [
            "O cliente comprou o papel PETR4\n"
          ]
        }
      ]
    },
    {
      "cell_type": "code",
      "source": [
        "compra_acoes(papel = 'PETR4')"
      ],
      "metadata": {
        "colab": {
          "base_uri": "https://localhost:8080/",
          "height": 240
        },
        "id": "I5ZBaB9nMy7L",
        "outputId": "ee01e72b-5afa-4c73-f436-c6b00dd47de5"
      },
      "execution_count": null,
      "outputs": [
        {
          "output_type": "error",
          "ename": "KeyError",
          "evalue": "ignored",
          "traceback": [
            "\u001b[0;31m---------------------------------------------------------------------------\u001b[0m",
            "\u001b[0;31mKeyError\u001b[0m                                  Traceback (most recent call last)",
            "\u001b[0;32m<ipython-input-21-a1de0e2cbbd2>\u001b[0m in \u001b[0;36m<module>\u001b[0;34m\u001b[0m\n\u001b[0;32m----> 1\u001b[0;31m \u001b[0mcompra_acoes\u001b[0m\u001b[0;34m(\u001b[0m\u001b[0mpapel\u001b[0m \u001b[0;34m=\u001b[0m \u001b[0;34m'PETR4'\u001b[0m\u001b[0;34m)\u001b[0m\u001b[0;34m\u001b[0m\u001b[0;34m\u001b[0m\u001b[0m\n\u001b[0m",
            "\u001b[0;32m<ipython-input-19-a790c89e82fe>\u001b[0m in \u001b[0;36mcompra_acoes\u001b[0;34m(**kwargs)\u001b[0m\n\u001b[1;32m      1\u001b[0m \u001b[0;32mdef\u001b[0m \u001b[0mcompra_acoes\u001b[0m\u001b[0;34m(\u001b[0m\u001b[0;34m**\u001b[0m\u001b[0mkwargs\u001b[0m\u001b[0;34m)\u001b[0m\u001b[0;34m:\u001b[0m\u001b[0;34m\u001b[0m\u001b[0;34m\u001b[0m\u001b[0m\n\u001b[0;32m----> 2\u001b[0;31m   \u001b[0mprint\u001b[0m\u001b[0;34m(\u001b[0m\u001b[0;34m'O cliente comprou o papel'\u001b[0m\u001b[0;34m,\u001b[0m \u001b[0mkwargs\u001b[0m\u001b[0;34m[\u001b[0m\u001b[0;34m'acao'\u001b[0m\u001b[0;34m]\u001b[0m\u001b[0;34m)\u001b[0m\u001b[0;34m\u001b[0m\u001b[0;34m\u001b[0m\u001b[0m\n\u001b[0m",
            "\u001b[0;31mKeyError\u001b[0m: 'acao'"
          ]
        }
      ]
    },
    {
      "cell_type": "code",
      "source": [
        "def compra_acoes(**kwargs):\n",
        "  print('O cliente comprou o papel', kwargs['acao'], ' com a quantia de', kwargs['quantidade'])"
      ],
      "metadata": {
        "id": "cDwNVaHdM7bb"
      },
      "execution_count": null,
      "outputs": []
    },
    {
      "cell_type": "markdown",
      "source": [
        "O seguinte comando resultará em erro"
      ],
      "metadata": {
        "id": "eyBDZeVYNOQO"
      }
    },
    {
      "cell_type": "code",
      "source": [
        "compra_acoes('VALE3', 100)"
      ],
      "metadata": {
        "colab": {
          "base_uri": "https://localhost:8080/",
          "height": 169
        },
        "id": "AQQmtu5zNKKw",
        "outputId": "17db2a7d-4efd-4789-ece5-2121367d766a"
      },
      "execution_count": null,
      "outputs": [
        {
          "output_type": "error",
          "ename": "TypeError",
          "evalue": "ignored",
          "traceback": [
            "\u001b[0;31m---------------------------------------------------------------------------\u001b[0m",
            "\u001b[0;31mTypeError\u001b[0m                                 Traceback (most recent call last)",
            "\u001b[0;32m<ipython-input-23-e9788052d486>\u001b[0m in \u001b[0;36m<module>\u001b[0;34m\u001b[0m\n\u001b[0;32m----> 1\u001b[0;31m \u001b[0mcompra_acoes\u001b[0m\u001b[0;34m(\u001b[0m\u001b[0;34m'VALE3'\u001b[0m\u001b[0;34m,\u001b[0m \u001b[0;36m100\u001b[0m\u001b[0;34m)\u001b[0m\u001b[0;34m\u001b[0m\u001b[0;34m\u001b[0m\u001b[0m\n\u001b[0m",
            "\u001b[0;31mTypeError\u001b[0m: compra_acoes() takes 0 positional arguments but 2 were given"
          ]
        }
      ]
    },
    {
      "cell_type": "code",
      "source": [
        "compra_acoes(acao = 'VALE3', quantidade = 100)"
      ],
      "metadata": {
        "colab": {
          "base_uri": "https://localhost:8080/"
        },
        "id": "A1gF1r-_NMna",
        "outputId": "0b492e5c-69fa-4903-bb2f-3cad6ffc13a6"
      },
      "execution_count": null,
      "outputs": [
        {
          "output_type": "stream",
          "name": "stdout",
          "text": [
            "O cliente comprou o papel VALE3  com a quantia de 100\n"
          ]
        }
      ]
    },
    {
      "cell_type": "code",
      "source": [
        "def compra_acoes(**kwargs):\n",
        "  if 'acao' in kwargs:\n",
        "    print('O cliente comprou o papel', kwargs['acao'], ' com a quantia de', kwargs['quantidade'])\n",
        "  else:\n",
        "    print('Cliente não quis comprar ações')"
      ],
      "metadata": {
        "id": "TYC9AE7TNT8Z"
      },
      "execution_count": null,
      "outputs": []
    },
    {
      "cell_type": "code",
      "source": [
        "compra_acoes()"
      ],
      "metadata": {
        "colab": {
          "base_uri": "https://localhost:8080/"
        },
        "id": "RuoTBq6WNrxa",
        "outputId": "263a1ab8-bdfb-492e-d0a2-27d3dc6ac63e"
      },
      "execution_count": null,
      "outputs": [
        {
          "output_type": "stream",
          "name": "stdout",
          "text": [
            "Cliente não quis comprar ações\n"
          ]
        }
      ]
    },
    {
      "cell_type": "code",
      "source": [
        "compra_acoes(acao = 'BBDC4', quantidade = 200)"
      ],
      "metadata": {
        "colab": {
          "base_uri": "https://localhost:8080/"
        },
        "id": "iFgs8LK2Ns5C",
        "outputId": "6c74d5c0-3e84-459f-8351-422051fe6739"
      },
      "execution_count": null,
      "outputs": [
        {
          "output_type": "stream",
          "name": "stdout",
          "text": [
            "O cliente comprou o papel BBDC4  com a quantia de 200\n"
          ]
        }
      ]
    },
    {
      "cell_type": "markdown",
      "source": [
        "E se eventualmente trocássemos os nomes?"
      ],
      "metadata": {
        "id": "6kFcBDmIN8l6"
      }
    },
    {
      "cell_type": "code",
      "source": [
        "def compra_acoes(**kwargs):\n",
        "  if 'papel' in kwargs:\n",
        "    print('O cliente comprou o papel', kwargs['papel'], ' com a quantia de', kwargs['quantia'])\n",
        "  else:\n",
        "    print('Cliente não quis comprar ações')"
      ],
      "metadata": {
        "id": "Ms8Cguj2Nw4a"
      },
      "execution_count": null,
      "outputs": []
    },
    {
      "cell_type": "code",
      "source": [
        "compra_acoes(papel = 'BBDC4', quantia = 200)"
      ],
      "metadata": {
        "colab": {
          "base_uri": "https://localhost:8080/"
        },
        "id": "0pgfUWJ1OCDR",
        "outputId": "ea34f855-3ee0-41b3-ebf2-6009be9d3918"
      },
      "execution_count": null,
      "outputs": [
        {
          "output_type": "stream",
          "name": "stdout",
          "text": [
            "O cliente comprou o papel BBDC4  com a quantia de 200\n"
          ]
        }
      ]
    },
    {
      "cell_type": "markdown",
      "source": [
        "De forma análoga aos args, nós podemos utilizar outros nomes"
      ],
      "metadata": {
        "id": "8floWTqYOEIJ"
      }
    },
    {
      "cell_type": "code",
      "source": [
        "def compra_acoes(**investimentos):\n",
        "  if 'papel' in investimentos:\n",
        "    print('O cliente comprou o papel', investimentos['papel'], ' com a quantia de', investimentos['quantia'])\n",
        "    print(investimentos)\n",
        "  else:\n",
        "    print('Cliente não quis comprar ações')"
      ],
      "metadata": {
        "id": "-8HYdkYqONXS"
      },
      "execution_count": null,
      "outputs": []
    },
    {
      "cell_type": "code",
      "source": [
        "compra_acoes(papel = 'ABEV3', quantia = 50)"
      ],
      "metadata": {
        "colab": {
          "base_uri": "https://localhost:8080/"
        },
        "id": "YU08E5_ROZX6",
        "outputId": "12685d54-2d17-4935-f2b0-717b5902c347"
      },
      "execution_count": null,
      "outputs": [
        {
          "output_type": "stream",
          "name": "stdout",
          "text": [
            "O cliente comprou o papel ABEV3  com a quantia de 50\n",
            "{'papel': 'ABEV3', 'quantia': 50}\n"
          ]
        }
      ]
    },
    {
      "cell_type": "markdown",
      "source": [
        "### **Regras gerais**\n",
        "\n",
        "1. Os argumentos que não recebem pré-definição vêm sempre antes\n",
        "\n",
        "  Por exemplo:\n",
        "\n",
        "  `def numeros (a, b, c = 1, d = 2)`\n",
        "\n",
        "\n",
        "2. Os args sempre precedem os kwargs\n",
        "\n",
        "  Por exemplo:\n",
        "\n",
        "  `def numeros (*args, **kwargs)`\n",
        "\n",
        "3. Se a função tiver tudo isso, primeiro passamos os argumentos sem valores pré-definidos, depois aqueles que possuem pré-definição, depois args e depois kwargs\n",
        "\n",
        "  Por exemplo:\n",
        "\n",
        "  `def numeros (a, b, c = 1, d = 2, *args, **kwargs)`\n",
        "\n"
      ],
      "metadata": {
        "id": "c5ht0hSJOoBa"
      }
    },
    {
      "cell_type": "code",
      "source": [
        "def potencia(num, pot = 2):\n",
        "  return num**pot"
      ],
      "metadata": {
        "id": "SZ6NkPaRPAAZ"
      },
      "execution_count": null,
      "outputs": []
    },
    {
      "cell_type": "code",
      "source": [
        "potencia(5)"
      ],
      "metadata": {
        "colab": {
          "base_uri": "https://localhost:8080/"
        },
        "id": "y7MEG_I2PE3x",
        "outputId": "d8932d69-069b-4f01-f236-05dedef10646"
      },
      "execution_count": null,
      "outputs": [
        {
          "output_type": "execute_result",
          "data": {
            "text/plain": [
              "25"
            ]
          },
          "metadata": {},
          "execution_count": 38
        }
      ]
    },
    {
      "cell_type": "code",
      "source": [
        "def compra_acoes(nome, *compras, **investimentos):\n",
        "  if 'papel' in investimentos:\n",
        "    print('Cliente', nome, 'comprou R$', sum(compras), 'em', investimentos['papel'], 'e foram feitas', len(compras), 'operações')\n",
        "  else:\n",
        "    print('Cliente', nome, 'não quer comprar ações')"
      ],
      "metadata": {
        "id": "LxOM3HCvPGVZ"
      },
      "execution_count": null,
      "outputs": []
    },
    {
      "cell_type": "code",
      "source": [
        "compra_acoes('José Pereira', 100,200,100,50,35, papel = 'WEGE3')"
      ],
      "metadata": {
        "colab": {
          "base_uri": "https://localhost:8080/"
        },
        "id": "-d-GZZPDQRAv",
        "outputId": "a944b02f-05a2-4307-c758-ec56638ff547"
      },
      "execution_count": null,
      "outputs": [
        {
          "output_type": "stream",
          "name": "stdout",
          "text": [
            "Cliente José Pereira comprou R$ 485 em WEGE3 e foram feitas 5 operações\n"
          ]
        }
      ]
    },
    {
      "cell_type": "code",
      "source": [
        "compra_acoes('José Pereira', *(100,200,100,50,35), papel = 'WEGE3')"
      ],
      "metadata": {
        "colab": {
          "base_uri": "https://localhost:8080/"
        },
        "id": "YugBRO89QdhK",
        "outputId": "a9787b7a-353b-4ae8-d265-7d6d9ea35b8b"
      },
      "execution_count": null,
      "outputs": [
        {
          "output_type": "stream",
          "name": "stdout",
          "text": [
            "Cliente José Pereira comprou R$ 485 em WEGE3 e foram feitas 5 operações\n"
          ]
        }
      ]
    },
    {
      "cell_type": "code",
      "source": [
        "compra_acoes('José Pereira', *(100,200,100,50,35), **{'papel' : 'WEGE3'})"
      ],
      "metadata": {
        "colab": {
          "base_uri": "https://localhost:8080/"
        },
        "id": "gNDBzz60QpuR",
        "outputId": "5e85e298-f43a-4624-f75a-1954e7a77ef5"
      },
      "execution_count": null,
      "outputs": [
        {
          "output_type": "stream",
          "name": "stdout",
          "text": [
            "Cliente José Pereira comprou R$ 485 em WEGE3 e foram feitas 5 operações\n"
          ]
        }
      ]
    },
    {
      "cell_type": "code",
      "source": [
        "compra_acoes('Maria Pereira', 100,200,100,50,35,100,100,400, papel = 'WEGE3')"
      ],
      "metadata": {
        "colab": {
          "base_uri": "https://localhost:8080/"
        },
        "id": "HIWVF4X0Q4gB",
        "outputId": "584d66c0-01ce-46e8-c373-d803189452ad"
      },
      "execution_count": null,
      "outputs": [
        {
          "output_type": "stream",
          "name": "stdout",
          "text": [
            "Cliente Maria Pereira comprou R$ 1085 em WEGE3 e foram feitas 8 operações\n"
          ]
        }
      ]
    },
    {
      "cell_type": "code",
      "source": [],
      "metadata": {
        "id": "TpP4UopwRUTh"
      },
      "execution_count": null,
      "outputs": []
    }
  ]
}